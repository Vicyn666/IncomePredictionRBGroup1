{
  "cells": [
    {
      "cell_type": "markdown",
      "metadata": {
        "id": "view-in-github",
        "colab_type": "text"
      },
      "source": [
        "<a href=\"https://colab.research.google.com/github/Vicyn666/IncomePredictionRBGroup1/blob/main/Group1_Income_pred_Tasks1%2B2_25feb.ipynb\" target=\"_parent\"><img src=\"https://colab.research.google.com/assets/colab-badge.svg\" alt=\"Open In Colab\"/></a>"
      ]
    },
    {
      "cell_type": "markdown",
      "source": [
        "# Решение задачи определения уровня дохода"
      ],
      "metadata": {
        "id": "1Os-p1zQv0ZK"
      }
    },
    {
      "cell_type": "markdown",
      "source": [
        "# Задание 1: логистическая регрессия\n"
      ],
      "metadata": {
        "id": "z79gbIw0bWJZ"
      }
    },
    {
      "cell_type": "markdown",
      "source": [
        "## <font color='green'>1. Загрузка данных и их первичный анализ</font>"
      ],
      "metadata": {
        "id": "cgXJLC1Yjpnm"
      }
    },
    {
      "cell_type": "code",
      "execution_count": null,
      "metadata": {
        "id": "wD3LYTXnhtwZ"
      },
      "outputs": [],
      "source": [
        "import pandas as pd\n",
        "import numpy as np\n",
        "from matplotlib import pyplot as plt\n",
        "from sklearn.linear_model import LogisticRegression\n",
        "\n",
        "import warnings\n",
        "warnings.filterwarnings(\"ignore\")"
      ]
    },
    {
      "cell_type": "code",
      "execution_count": null,
      "metadata": {
        "id": "HWwIJ2AQhtwb",
        "colab": {
          "base_uri": "https://localhost:8080/"
        },
        "outputId": "65c978cf-c460-401e-b8d4-a5c922c32d52"
      },
      "outputs": [
        {
          "output_type": "stream",
          "name": "stdout",
          "text": [
            "--2023-02-23 21:27:21--  https://storage.yandexcloud.net/cloud-certs/CA.pem\n",
            "Resolving storage.yandexcloud.net (storage.yandexcloud.net)... 213.180.193.243, 2a02:6b8::1d9\n",
            "Connecting to storage.yandexcloud.net (storage.yandexcloud.net)|213.180.193.243|:443... connected.\n",
            "HTTP request sent, awaiting response... 200 OK\n",
            "Length: 3579 (3.5K) [application/x-x509-ca-cert]\n",
            "Saving to: ‘/root/.postgresql/root.crt’\n",
            "\n",
            "/root/.postgresql/r 100%[===================>]   3.50K  --.-KB/s    in 0s      \n",
            "\n",
            "2023-02-23 21:27:22 (718 MB/s) - ‘/root/.postgresql/root.crt’ saved [3579/3579]\n",
            "\n"
          ]
        }
      ],
      "source": [
        "!mkdir -p ~/.postgresql && \\\n",
        "wget \"https://storage.yandexcloud.net/cloud-certs/CA.pem\" \\\n",
        "    --output-document ~/.postgresql/root.crt && \\\n",
        "chmod 0600 ~/.postgresql/root.crt"
      ]
    },
    {
      "cell_type": "code",
      "source": [
        "!sudo apt update && sudo apt install --yes python3 python3-pip && \\\n",
        "!pip3 install psycopg2-binary"
      ],
      "metadata": {
        "id": "OAFi6whWi-so",
        "colab": {
          "base_uri": "https://localhost:8080/"
        },
        "outputId": "f680b3bc-f64d-4433-eda8-1f88f45d3cb7"
      },
      "execution_count": null,
      "outputs": [
        {
          "output_type": "stream",
          "name": "stdout",
          "text": [
            "\u001b[33m\r0% [Working]\u001b[0m\r            \rHit:1 https://cloud.r-project.org/bin/linux/ubuntu focal-cran40/ InRelease\n",
            "\u001b[33m\r0% [Connecting to archive.ubuntu.com] [Connecting to security.ubuntu.com (185.1\u001b[0m\r                                                                               \rIgn:2 https://developer.download.nvidia.com/compute/machine-learning/repos/ubuntu2004/x86_64  InRelease\n",
            "\u001b[33m\r0% [Connecting to archive.ubuntu.com] [Connecting to security.ubuntu.com (185.1\u001b[0m\r                                                                               \rHit:3 https://developer.download.nvidia.com/compute/cuda/repos/ubuntu2004/x86_64  InRelease\n",
            "Hit:4 https://developer.download.nvidia.com/compute/machine-learning/repos/ubuntu2004/x86_64  Release\n",
            "Get:5 http://security.ubuntu.com/ubuntu focal-security InRelease [114 kB]\n",
            "Hit:6 http://ppa.launchpad.net/c2d4u.team/c2d4u4.0+/ubuntu focal InRelease\n",
            "Hit:8 http://archive.ubuntu.com/ubuntu focal InRelease\n",
            "Hit:9 http://ppa.launchpad.net/cran/libgit2/ubuntu focal InRelease\n",
            "Hit:10 http://archive.ubuntu.com/ubuntu focal-updates InRelease\n",
            "Get:11 http://archive.ubuntu.com/ubuntu focal-backports InRelease [108 kB]\n",
            "Hit:12 http://ppa.launchpad.net/deadsnakes/ppa/ubuntu focal InRelease\n",
            "Hit:13 http://ppa.launchpad.net/graphics-drivers/ppa/ubuntu focal InRelease\n",
            "Hit:14 http://ppa.launchpad.net/ubuntugis/ppa/ubuntu focal InRelease\n",
            "Fetched 222 kB in 2s (145 kB/s)\n",
            "Reading package lists... Done\n",
            "Building dependency tree       \n",
            "Reading state information... Done\n",
            "21 packages can be upgraded. Run 'apt list --upgradable' to see them.\n",
            "Reading package lists... Done\n",
            "Building dependency tree       \n",
            "Reading state information... Done\n",
            "python3 is already the newest version (3.8.2-0ubuntu2).\n",
            "python3-pip is already the newest version (20.0.2-5ubuntu1.7).\n",
            "The following package was automatically installed and is no longer required:\n",
            "  libnvidia-common-510\n",
            "Use 'sudo apt autoremove' to remove it.\n",
            "0 upgraded, 0 newly installed, 0 to remove and 21 not upgraded.\n",
            "/bin/bash: !pip3: command not found\n"
          ]
        }
      ]
    },
    {
      "cell_type": "code",
      "source": [
        "import psycopg2\n",
        "\n",
        "conn = psycopg2.connect(\"\"\"\n",
        "    host=rc1b-70q90cunwkzx49mj.mdb.yandexcloud.net\n",
        "    port=6432\n",
        "    sslmode=verify-full\n",
        "    dbname=db_clients\n",
        "    user=mlhs_student\n",
        "    password=mlhs_student\n",
        "    target_session_attrs=read-write\n",
        "\"\"\")"
      ],
      "metadata": {
        "id": "7efd5Dz0jBYo"
      },
      "execution_count": null,
      "outputs": []
    },
    {
      "cell_type": "code",
      "source": [
        "import pandas as pd\n",
        "\n",
        "query = \"SELECT * from adult_income\"\n",
        "data_full = pd.read_sql_query(query, conn)\n",
        "data = pd.read_sql_query(query, conn)\n",
        "\n",
        "conn.close()"
      ],
      "metadata": {
        "id": "Z4QXHJtvjG5G"
      },
      "execution_count": null,
      "outputs": []
    },
    {
      "cell_type": "code",
      "source": [
        "data.head()"
      ],
      "metadata": {
        "id": "3WWFMf7BRYFq",
        "colab": {
          "base_uri": "https://localhost:8080/"
        },
        "outputId": "54a888c6-fd93-47fe-8227-a4f5339ec621"
      },
      "execution_count": null,
      "outputs": [
        {
          "output_type": "execute_result",
          "data": {
            "text/plain": [
              "   age  workclass  fnlwgt     education  educational-num      marital-status  \\\n",
              "0   25    Private  226802          11th                7       Never-married   \n",
              "1   38    Private   89814       HS-grad                9  Married-civ-spouse   \n",
              "2   28  Local-gov  336951    Assoc-acdm               12  Married-civ-spouse   \n",
              "3   44    Private  160323  Some-college               10  Married-civ-spouse   \n",
              "4   18          ?  103497  Some-college               10       Never-married   \n",
              "\n",
              "          occupation relationship   race  gender  capital-gain  capital-loss  \\\n",
              "0  Machine-op-inspct    Own-child  Black    Male           0.0           0.0   \n",
              "1    Farming-fishing      Husband  White    Male           0.0           0.0   \n",
              "2    Protective-serv      Husband  White    Male           0.0           0.0   \n",
              "3  Machine-op-inspct      Husband  Black    Male        7688.0           0.0   \n",
              "4                  ?    Own-child  White  Female           0.0           0.0   \n",
              "\n",
              "   hours-per-week native-country income  \n",
              "0            40.0  United-States  <=50K  \n",
              "1            50.0  United-States  <=50K  \n",
              "2            40.0  United-States   >50K  \n",
              "3            40.0  United-States   >50K  \n",
              "4            30.0  United-States  <=50K  "
            ],
            "text/html": [
              "\n",
              "  <div id=\"df-2a0aea98-4426-4ece-be96-506fabe99a27\">\n",
              "    <div class=\"colab-df-container\">\n",
              "      <div>\n",
              "<style scoped>\n",
              "    .dataframe tbody tr th:only-of-type {\n",
              "        vertical-align: middle;\n",
              "    }\n",
              "\n",
              "    .dataframe tbody tr th {\n",
              "        vertical-align: top;\n",
              "    }\n",
              "\n",
              "    .dataframe thead th {\n",
              "        text-align: right;\n",
              "    }\n",
              "</style>\n",
              "<table border=\"1\" class=\"dataframe\">\n",
              "  <thead>\n",
              "    <tr style=\"text-align: right;\">\n",
              "      <th></th>\n",
              "      <th>age</th>\n",
              "      <th>workclass</th>\n",
              "      <th>fnlwgt</th>\n",
              "      <th>education</th>\n",
              "      <th>educational-num</th>\n",
              "      <th>marital-status</th>\n",
              "      <th>occupation</th>\n",
              "      <th>relationship</th>\n",
              "      <th>race</th>\n",
              "      <th>gender</th>\n",
              "      <th>capital-gain</th>\n",
              "      <th>capital-loss</th>\n",
              "      <th>hours-per-week</th>\n",
              "      <th>native-country</th>\n",
              "      <th>income</th>\n",
              "    </tr>\n",
              "  </thead>\n",
              "  <tbody>\n",
              "    <tr>\n",
              "      <th>0</th>\n",
              "      <td>25</td>\n",
              "      <td>Private</td>\n",
              "      <td>226802</td>\n",
              "      <td>11th</td>\n",
              "      <td>7</td>\n",
              "      <td>Never-married</td>\n",
              "      <td>Machine-op-inspct</td>\n",
              "      <td>Own-child</td>\n",
              "      <td>Black</td>\n",
              "      <td>Male</td>\n",
              "      <td>0.0</td>\n",
              "      <td>0.0</td>\n",
              "      <td>40.0</td>\n",
              "      <td>United-States</td>\n",
              "      <td>&lt;=50K</td>\n",
              "    </tr>\n",
              "    <tr>\n",
              "      <th>1</th>\n",
              "      <td>38</td>\n",
              "      <td>Private</td>\n",
              "      <td>89814</td>\n",
              "      <td>HS-grad</td>\n",
              "      <td>9</td>\n",
              "      <td>Married-civ-spouse</td>\n",
              "      <td>Farming-fishing</td>\n",
              "      <td>Husband</td>\n",
              "      <td>White</td>\n",
              "      <td>Male</td>\n",
              "      <td>0.0</td>\n",
              "      <td>0.0</td>\n",
              "      <td>50.0</td>\n",
              "      <td>United-States</td>\n",
              "      <td>&lt;=50K</td>\n",
              "    </tr>\n",
              "    <tr>\n",
              "      <th>2</th>\n",
              "      <td>28</td>\n",
              "      <td>Local-gov</td>\n",
              "      <td>336951</td>\n",
              "      <td>Assoc-acdm</td>\n",
              "      <td>12</td>\n",
              "      <td>Married-civ-spouse</td>\n",
              "      <td>Protective-serv</td>\n",
              "      <td>Husband</td>\n",
              "      <td>White</td>\n",
              "      <td>Male</td>\n",
              "      <td>0.0</td>\n",
              "      <td>0.0</td>\n",
              "      <td>40.0</td>\n",
              "      <td>United-States</td>\n",
              "      <td>&gt;50K</td>\n",
              "    </tr>\n",
              "    <tr>\n",
              "      <th>3</th>\n",
              "      <td>44</td>\n",
              "      <td>Private</td>\n",
              "      <td>160323</td>\n",
              "      <td>Some-college</td>\n",
              "      <td>10</td>\n",
              "      <td>Married-civ-spouse</td>\n",
              "      <td>Machine-op-inspct</td>\n",
              "      <td>Husband</td>\n",
              "      <td>Black</td>\n",
              "      <td>Male</td>\n",
              "      <td>7688.0</td>\n",
              "      <td>0.0</td>\n",
              "      <td>40.0</td>\n",
              "      <td>United-States</td>\n",
              "      <td>&gt;50K</td>\n",
              "    </tr>\n",
              "    <tr>\n",
              "      <th>4</th>\n",
              "      <td>18</td>\n",
              "      <td>?</td>\n",
              "      <td>103497</td>\n",
              "      <td>Some-college</td>\n",
              "      <td>10</td>\n",
              "      <td>Never-married</td>\n",
              "      <td>?</td>\n",
              "      <td>Own-child</td>\n",
              "      <td>White</td>\n",
              "      <td>Female</td>\n",
              "      <td>0.0</td>\n",
              "      <td>0.0</td>\n",
              "      <td>30.0</td>\n",
              "      <td>United-States</td>\n",
              "      <td>&lt;=50K</td>\n",
              "    </tr>\n",
              "  </tbody>\n",
              "</table>\n",
              "</div>\n",
              "      <button class=\"colab-df-convert\" onclick=\"convertToInteractive('df-2a0aea98-4426-4ece-be96-506fabe99a27')\"\n",
              "              title=\"Convert this dataframe to an interactive table.\"\n",
              "              style=\"display:none;\">\n",
              "        \n",
              "  <svg xmlns=\"http://www.w3.org/2000/svg\" height=\"24px\"viewBox=\"0 0 24 24\"\n",
              "       width=\"24px\">\n",
              "    <path d=\"M0 0h24v24H0V0z\" fill=\"none\"/>\n",
              "    <path d=\"M18.56 5.44l.94 2.06.94-2.06 2.06-.94-2.06-.94-.94-2.06-.94 2.06-2.06.94zm-11 1L8.5 8.5l.94-2.06 2.06-.94-2.06-.94L8.5 2.5l-.94 2.06-2.06.94zm10 10l.94 2.06.94-2.06 2.06-.94-2.06-.94-.94-2.06-.94 2.06-2.06.94z\"/><path d=\"M17.41 7.96l-1.37-1.37c-.4-.4-.92-.59-1.43-.59-.52 0-1.04.2-1.43.59L10.3 9.45l-7.72 7.72c-.78.78-.78 2.05 0 2.83L4 21.41c.39.39.9.59 1.41.59.51 0 1.02-.2 1.41-.59l7.78-7.78 2.81-2.81c.8-.78.8-2.07 0-2.86zM5.41 20L4 18.59l7.72-7.72 1.47 1.35L5.41 20z\"/>\n",
              "  </svg>\n",
              "      </button>\n",
              "      \n",
              "  <style>\n",
              "    .colab-df-container {\n",
              "      display:flex;\n",
              "      flex-wrap:wrap;\n",
              "      gap: 12px;\n",
              "    }\n",
              "\n",
              "    .colab-df-convert {\n",
              "      background-color: #E8F0FE;\n",
              "      border: none;\n",
              "      border-radius: 50%;\n",
              "      cursor: pointer;\n",
              "      display: none;\n",
              "      fill: #1967D2;\n",
              "      height: 32px;\n",
              "      padding: 0 0 0 0;\n",
              "      width: 32px;\n",
              "    }\n",
              "\n",
              "    .colab-df-convert:hover {\n",
              "      background-color: #E2EBFA;\n",
              "      box-shadow: 0px 1px 2px rgba(60, 64, 67, 0.3), 0px 1px 3px 1px rgba(60, 64, 67, 0.15);\n",
              "      fill: #174EA6;\n",
              "    }\n",
              "\n",
              "    [theme=dark] .colab-df-convert {\n",
              "      background-color: #3B4455;\n",
              "      fill: #D2E3FC;\n",
              "    }\n",
              "\n",
              "    [theme=dark] .colab-df-convert:hover {\n",
              "      background-color: #434B5C;\n",
              "      box-shadow: 0px 1px 3px 1px rgba(0, 0, 0, 0.15);\n",
              "      filter: drop-shadow(0px 1px 2px rgba(0, 0, 0, 0.3));\n",
              "      fill: #FFFFFF;\n",
              "    }\n",
              "  </style>\n",
              "\n",
              "      <script>\n",
              "        const buttonEl =\n",
              "          document.querySelector('#df-2a0aea98-4426-4ece-be96-506fabe99a27 button.colab-df-convert');\n",
              "        buttonEl.style.display =\n",
              "          google.colab.kernel.accessAllowed ? 'block' : 'none';\n",
              "\n",
              "        async function convertToInteractive(key) {\n",
              "          const element = document.querySelector('#df-2a0aea98-4426-4ece-be96-506fabe99a27');\n",
              "          const dataTable =\n",
              "            await google.colab.kernel.invokeFunction('convertToInteractive',\n",
              "                                                     [key], {});\n",
              "          if (!dataTable) return;\n",
              "\n",
              "          const docLinkHtml = 'Like what you see? Visit the ' +\n",
              "            '<a target=\"_blank\" href=https://colab.research.google.com/notebooks/data_table.ipynb>data table notebook</a>'\n",
              "            + ' to learn more about interactive tables.';\n",
              "          element.innerHTML = '';\n",
              "          dataTable['output_type'] = 'display_data';\n",
              "          await google.colab.output.renderOutput(dataTable, element);\n",
              "          const docLink = document.createElement('div');\n",
              "          docLink.innerHTML = docLinkHtml;\n",
              "          element.appendChild(docLink);\n",
              "        }\n",
              "      </script>\n",
              "    </div>\n",
              "  </div>\n",
              "  "
            ]
          },
          "metadata": {},
          "execution_count": 307
        }
      ]
    },
    {
      "cell_type": "code",
      "source": [
        "data.shape"
      ],
      "metadata": {
        "id": "aX7cYQzN0k_Z",
        "colab": {
          "base_uri": "https://localhost:8080/"
        },
        "outputId": "5342ba69-b5f1-4a6e-dab5-9a31311022b2"
      },
      "execution_count": null,
      "outputs": [
        {
          "output_type": "execute_result",
          "data": {
            "text/plain": [
              "(9615, 15)"
            ]
          },
          "metadata": {},
          "execution_count": 308
        }
      ]
    },
    {
      "cell_type": "code",
      "source": [
        "data.info()"
      ],
      "metadata": {
        "colab": {
          "base_uri": "https://localhost:8080/"
        },
        "id": "deavkLDyUGi8",
        "outputId": "339a4713-c93d-46db-a660-3c54d0c5f162"
      },
      "execution_count": null,
      "outputs": [
        {
          "output_type": "stream",
          "name": "stdout",
          "text": [
            "<class 'pandas.core.frame.DataFrame'>\n",
            "RangeIndex: 9615 entries, 0 to 9614\n",
            "Data columns (total 15 columns):\n",
            " #   Column           Non-Null Count  Dtype  \n",
            "---  ------           --------------  -----  \n",
            " 0   age              9615 non-null   int64  \n",
            " 1   workclass        9615 non-null   object \n",
            " 2   fnlwgt           9615 non-null   int64  \n",
            " 3   education        9615 non-null   object \n",
            " 4   educational-num  9615 non-null   int64  \n",
            " 5   marital-status   9615 non-null   object \n",
            " 6   occupation       9615 non-null   object \n",
            " 7   relationship     9615 non-null   object \n",
            " 8   race             9614 non-null   object \n",
            " 9   gender           9614 non-null   object \n",
            " 10  capital-gain     9614 non-null   float64\n",
            " 11  capital-loss     9614 non-null   float64\n",
            " 12  hours-per-week   9614 non-null   float64\n",
            " 13  native-country   9614 non-null   object \n",
            " 14  income           9614 non-null   object \n",
            "dtypes: float64(3), int64(3), object(9)\n",
            "memory usage: 1.1+ MB\n"
          ]
        }
      ]
    },
    {
      "cell_type": "markdown",
      "source": [
        "Удаляем строку с пустым значением поля income"
      ],
      "metadata": {
        "id": "wo40zatbV3Ig"
      }
    },
    {
      "cell_type": "code",
      "source": [
        "data=data[data.income.notnull()]"
      ],
      "metadata": {
        "id": "gCxljqscVFPS"
      },
      "execution_count": null,
      "outputs": []
    },
    {
      "cell_type": "code",
      "source": [
        "data.info()"
      ],
      "metadata": {
        "colab": {
          "base_uri": "https://localhost:8080/"
        },
        "id": "7HAPeUfUVxvr",
        "outputId": "1a5a70f8-f752-4ab9-b003-4f5a452939aa"
      },
      "execution_count": null,
      "outputs": [
        {
          "output_type": "stream",
          "name": "stdout",
          "text": [
            "<class 'pandas.core.frame.DataFrame'>\n",
            "Int64Index: 9614 entries, 0 to 9613\n",
            "Data columns (total 15 columns):\n",
            " #   Column           Non-Null Count  Dtype  \n",
            "---  ------           --------------  -----  \n",
            " 0   age              9614 non-null   int64  \n",
            " 1   workclass        9614 non-null   object \n",
            " 2   fnlwgt           9614 non-null   int64  \n",
            " 3   education        9614 non-null   object \n",
            " 4   educational-num  9614 non-null   int64  \n",
            " 5   marital-status   9614 non-null   object \n",
            " 6   occupation       9614 non-null   object \n",
            " 7   relationship     9614 non-null   object \n",
            " 8   race             9614 non-null   object \n",
            " 9   gender           9614 non-null   object \n",
            " 10  capital-gain     9614 non-null   float64\n",
            " 11  capital-loss     9614 non-null   float64\n",
            " 12  hours-per-week   9614 non-null   float64\n",
            " 13  native-country   9614 non-null   object \n",
            " 14  income           9614 non-null   object \n",
            "dtypes: float64(3), int64(3), object(9)\n",
            "memory usage: 1.2+ MB\n"
          ]
        }
      ]
    },
    {
      "cell_type": "markdown",
      "source": [
        "Проверяем, что пустых значений больше нет"
      ],
      "metadata": {
        "id": "HrnytasLWx1l"
      }
    },
    {
      "cell_type": "code",
      "source": [
        "data.isna().sum()"
      ],
      "metadata": {
        "colab": {
          "base_uri": "https://localhost:8080/"
        },
        "id": "naMQXhKeSkRb",
        "outputId": "070134da-6436-4311-f05f-94ec3557334b"
      },
      "execution_count": null,
      "outputs": [
        {
          "output_type": "execute_result",
          "data": {
            "text/plain": [
              "age                0\n",
              "workclass          0\n",
              "fnlwgt             0\n",
              "education          0\n",
              "educational-num    0\n",
              "marital-status     0\n",
              "occupation         0\n",
              "relationship       0\n",
              "race               0\n",
              "gender             0\n",
              "capital-gain       0\n",
              "capital-loss       0\n",
              "hours-per-week     0\n",
              "native-country     0\n",
              "income             0\n",
              "dtype: int64"
            ]
          },
          "metadata": {},
          "execution_count": 312
        }
      ]
    },
    {
      "cell_type": "markdown",
      "source": [
        "Заменим категориальные признаки в поле income на числовые: \n",
        "\n"
      ],
      "metadata": {
        "id": "Fe2fXVp1ZifK"
      }
    },
    {
      "cell_type": "code",
      "source": [
        "data['income'] = data['income'].replace('<=50K', 0)\n",
        "data['income'] = data['income'].replace('>50K', 1)"
      ],
      "metadata": {
        "id": "5pcnBNgoZtDD"
      },
      "execution_count": null,
      "outputs": []
    },
    {
      "cell_type": "markdown",
      "source": [
        "Удаляем категориальные признаки"
      ],
      "metadata": {
        "id": "FBthY29AWeCx"
      }
    },
    {
      "cell_type": "code",
      "source": [
        "data = data.drop(['workclass','education','marital-status','occupation','relationship','race','gender','native-country'],axis=1)"
      ],
      "metadata": {
        "id": "XNaV0HfQzQns"
      },
      "execution_count": null,
      "outputs": []
    },
    {
      "cell_type": "code",
      "source": [
        "data.head()"
      ],
      "metadata": {
        "colab": {
          "base_uri": "https://localhost:8080/"
        },
        "id": "77cXq1fKRnw6",
        "outputId": "9419fd30-a87d-42c2-f1b0-a4a64222e20a"
      },
      "execution_count": null,
      "outputs": [
        {
          "output_type": "execute_result",
          "data": {
            "text/plain": [
              "   age  fnlwgt  educational-num  capital-gain  capital-loss  hours-per-week  \\\n",
              "0   25  226802                7           0.0           0.0            40.0   \n",
              "1   38   89814                9           0.0           0.0            50.0   \n",
              "2   28  336951               12           0.0           0.0            40.0   \n",
              "3   44  160323               10        7688.0           0.0            40.0   \n",
              "4   18  103497               10           0.0           0.0            30.0   \n",
              "\n",
              "   income  \n",
              "0       0  \n",
              "1       0  \n",
              "2       1  \n",
              "3       1  \n",
              "4       0  "
            ],
            "text/html": [
              "\n",
              "  <div id=\"df-dcf8ffbc-ea0c-44a7-9833-4b5fbf9481e2\">\n",
              "    <div class=\"colab-df-container\">\n",
              "      <div>\n",
              "<style scoped>\n",
              "    .dataframe tbody tr th:only-of-type {\n",
              "        vertical-align: middle;\n",
              "    }\n",
              "\n",
              "    .dataframe tbody tr th {\n",
              "        vertical-align: top;\n",
              "    }\n",
              "\n",
              "    .dataframe thead th {\n",
              "        text-align: right;\n",
              "    }\n",
              "</style>\n",
              "<table border=\"1\" class=\"dataframe\">\n",
              "  <thead>\n",
              "    <tr style=\"text-align: right;\">\n",
              "      <th></th>\n",
              "      <th>age</th>\n",
              "      <th>fnlwgt</th>\n",
              "      <th>educational-num</th>\n",
              "      <th>capital-gain</th>\n",
              "      <th>capital-loss</th>\n",
              "      <th>hours-per-week</th>\n",
              "      <th>income</th>\n",
              "    </tr>\n",
              "  </thead>\n",
              "  <tbody>\n",
              "    <tr>\n",
              "      <th>0</th>\n",
              "      <td>25</td>\n",
              "      <td>226802</td>\n",
              "      <td>7</td>\n",
              "      <td>0.0</td>\n",
              "      <td>0.0</td>\n",
              "      <td>40.0</td>\n",
              "      <td>0</td>\n",
              "    </tr>\n",
              "    <tr>\n",
              "      <th>1</th>\n",
              "      <td>38</td>\n",
              "      <td>89814</td>\n",
              "      <td>9</td>\n",
              "      <td>0.0</td>\n",
              "      <td>0.0</td>\n",
              "      <td>50.0</td>\n",
              "      <td>0</td>\n",
              "    </tr>\n",
              "    <tr>\n",
              "      <th>2</th>\n",
              "      <td>28</td>\n",
              "      <td>336951</td>\n",
              "      <td>12</td>\n",
              "      <td>0.0</td>\n",
              "      <td>0.0</td>\n",
              "      <td>40.0</td>\n",
              "      <td>1</td>\n",
              "    </tr>\n",
              "    <tr>\n",
              "      <th>3</th>\n",
              "      <td>44</td>\n",
              "      <td>160323</td>\n",
              "      <td>10</td>\n",
              "      <td>7688.0</td>\n",
              "      <td>0.0</td>\n",
              "      <td>40.0</td>\n",
              "      <td>1</td>\n",
              "    </tr>\n",
              "    <tr>\n",
              "      <th>4</th>\n",
              "      <td>18</td>\n",
              "      <td>103497</td>\n",
              "      <td>10</td>\n",
              "      <td>0.0</td>\n",
              "      <td>0.0</td>\n",
              "      <td>30.0</td>\n",
              "      <td>0</td>\n",
              "    </tr>\n",
              "  </tbody>\n",
              "</table>\n",
              "</div>\n",
              "      <button class=\"colab-df-convert\" onclick=\"convertToInteractive('df-dcf8ffbc-ea0c-44a7-9833-4b5fbf9481e2')\"\n",
              "              title=\"Convert this dataframe to an interactive table.\"\n",
              "              style=\"display:none;\">\n",
              "        \n",
              "  <svg xmlns=\"http://www.w3.org/2000/svg\" height=\"24px\"viewBox=\"0 0 24 24\"\n",
              "       width=\"24px\">\n",
              "    <path d=\"M0 0h24v24H0V0z\" fill=\"none\"/>\n",
              "    <path d=\"M18.56 5.44l.94 2.06.94-2.06 2.06-.94-2.06-.94-.94-2.06-.94 2.06-2.06.94zm-11 1L8.5 8.5l.94-2.06 2.06-.94-2.06-.94L8.5 2.5l-.94 2.06-2.06.94zm10 10l.94 2.06.94-2.06 2.06-.94-2.06-.94-.94-2.06-.94 2.06-2.06.94z\"/><path d=\"M17.41 7.96l-1.37-1.37c-.4-.4-.92-.59-1.43-.59-.52 0-1.04.2-1.43.59L10.3 9.45l-7.72 7.72c-.78.78-.78 2.05 0 2.83L4 21.41c.39.39.9.59 1.41.59.51 0 1.02-.2 1.41-.59l7.78-7.78 2.81-2.81c.8-.78.8-2.07 0-2.86zM5.41 20L4 18.59l7.72-7.72 1.47 1.35L5.41 20z\"/>\n",
              "  </svg>\n",
              "      </button>\n",
              "      \n",
              "  <style>\n",
              "    .colab-df-container {\n",
              "      display:flex;\n",
              "      flex-wrap:wrap;\n",
              "      gap: 12px;\n",
              "    }\n",
              "\n",
              "    .colab-df-convert {\n",
              "      background-color: #E8F0FE;\n",
              "      border: none;\n",
              "      border-radius: 50%;\n",
              "      cursor: pointer;\n",
              "      display: none;\n",
              "      fill: #1967D2;\n",
              "      height: 32px;\n",
              "      padding: 0 0 0 0;\n",
              "      width: 32px;\n",
              "    }\n",
              "\n",
              "    .colab-df-convert:hover {\n",
              "      background-color: #E2EBFA;\n",
              "      box-shadow: 0px 1px 2px rgba(60, 64, 67, 0.3), 0px 1px 3px 1px rgba(60, 64, 67, 0.15);\n",
              "      fill: #174EA6;\n",
              "    }\n",
              "\n",
              "    [theme=dark] .colab-df-convert {\n",
              "      background-color: #3B4455;\n",
              "      fill: #D2E3FC;\n",
              "    }\n",
              "\n",
              "    [theme=dark] .colab-df-convert:hover {\n",
              "      background-color: #434B5C;\n",
              "      box-shadow: 0px 1px 3px 1px rgba(0, 0, 0, 0.15);\n",
              "      filter: drop-shadow(0px 1px 2px rgba(0, 0, 0, 0.3));\n",
              "      fill: #FFFFFF;\n",
              "    }\n",
              "  </style>\n",
              "\n",
              "      <script>\n",
              "        const buttonEl =\n",
              "          document.querySelector('#df-dcf8ffbc-ea0c-44a7-9833-4b5fbf9481e2 button.colab-df-convert');\n",
              "        buttonEl.style.display =\n",
              "          google.colab.kernel.accessAllowed ? 'block' : 'none';\n",
              "\n",
              "        async function convertToInteractive(key) {\n",
              "          const element = document.querySelector('#df-dcf8ffbc-ea0c-44a7-9833-4b5fbf9481e2');\n",
              "          const dataTable =\n",
              "            await google.colab.kernel.invokeFunction('convertToInteractive',\n",
              "                                                     [key], {});\n",
              "          if (!dataTable) return;\n",
              "\n",
              "          const docLinkHtml = 'Like what you see? Visit the ' +\n",
              "            '<a target=\"_blank\" href=https://colab.research.google.com/notebooks/data_table.ipynb>data table notebook</a>'\n",
              "            + ' to learn more about interactive tables.';\n",
              "          element.innerHTML = '';\n",
              "          dataTable['output_type'] = 'display_data';\n",
              "          await google.colab.output.renderOutput(dataTable, element);\n",
              "          const docLink = document.createElement('div');\n",
              "          docLink.innerHTML = docLinkHtml;\n",
              "          element.appendChild(docLink);\n",
              "        }\n",
              "      </script>\n",
              "    </div>\n",
              "  </div>\n",
              "  "
            ]
          },
          "metadata": {},
          "execution_count": 315
        }
      ]
    },
    {
      "cell_type": "markdown",
      "source": [
        "Проверяем количество каждого из вариантов дохода"
      ],
      "metadata": {
        "id": "soAHi0nPXpDr"
      }
    },
    {
      "cell_type": "code",
      "source": [
        "data['income'].value_counts()"
      ],
      "metadata": {
        "colab": {
          "base_uri": "https://localhost:8080/"
        },
        "id": "r-y_xlj5XXom",
        "outputId": "86a45a11-778b-4f17-f72b-5cbd7c6dc934"
      },
      "execution_count": null,
      "outputs": [
        {
          "output_type": "execute_result",
          "data": {
            "text/plain": [
              "0    7356\n",
              "1    2258\n",
              "Name: income, dtype: int64"
            ]
          },
          "metadata": {},
          "execution_count": 316
        }
      ]
    },
    {
      "cell_type": "code",
      "source": [
        "data.describe()"
      ],
      "metadata": {
        "colab": {
          "base_uri": "https://localhost:8080/"
        },
        "id": "5miTJaWyCDkO",
        "outputId": "60794a41-ca94-4b69-8475-ed2d4d7a0a73"
      },
      "execution_count": null,
      "outputs": [
        {
          "output_type": "execute_result",
          "data": {
            "text/plain": [
              "               age        fnlwgt  educational-num  capital-gain  capital-loss  \\\n",
              "count  9614.000000  9.614000e+03      9614.000000   9614.000000   9614.000000   \n",
              "mean     38.731329  1.882948e+05        10.080092   1121.998232     87.926669   \n",
              "std      13.842687  1.051352e+05         2.562733   7890.578253    404.085647   \n",
              "min      17.000000  1.376900e+04         1.000000      0.000000      0.000000   \n",
              "25%      28.000000  1.154652e+05         9.000000      0.000000      0.000000   \n",
              "50%      37.000000  1.778450e+05        10.000000      0.000000      0.000000   \n",
              "75%      48.000000  2.374175e+05        12.000000      0.000000      0.000000   \n",
              "max      90.000000  1.490400e+06        16.000000  99999.000000   3770.000000   \n",
              "\n",
              "       hours-per-week       income  \n",
              "count     9614.000000  9614.000000  \n",
              "mean        40.522987     0.234866  \n",
              "std         12.416221     0.423937  \n",
              "min          1.000000     0.000000  \n",
              "25%         40.000000     0.000000  \n",
              "50%         40.000000     0.000000  \n",
              "75%         45.000000     0.000000  \n",
              "max         99.000000     1.000000  "
            ],
            "text/html": [
              "\n",
              "  <div id=\"df-3c75ce1b-4b27-4b82-a0b7-cb75fff99765\">\n",
              "    <div class=\"colab-df-container\">\n",
              "      <div>\n",
              "<style scoped>\n",
              "    .dataframe tbody tr th:only-of-type {\n",
              "        vertical-align: middle;\n",
              "    }\n",
              "\n",
              "    .dataframe tbody tr th {\n",
              "        vertical-align: top;\n",
              "    }\n",
              "\n",
              "    .dataframe thead th {\n",
              "        text-align: right;\n",
              "    }\n",
              "</style>\n",
              "<table border=\"1\" class=\"dataframe\">\n",
              "  <thead>\n",
              "    <tr style=\"text-align: right;\">\n",
              "      <th></th>\n",
              "      <th>age</th>\n",
              "      <th>fnlwgt</th>\n",
              "      <th>educational-num</th>\n",
              "      <th>capital-gain</th>\n",
              "      <th>capital-loss</th>\n",
              "      <th>hours-per-week</th>\n",
              "      <th>income</th>\n",
              "    </tr>\n",
              "  </thead>\n",
              "  <tbody>\n",
              "    <tr>\n",
              "      <th>count</th>\n",
              "      <td>9614.000000</td>\n",
              "      <td>9.614000e+03</td>\n",
              "      <td>9614.000000</td>\n",
              "      <td>9614.000000</td>\n",
              "      <td>9614.000000</td>\n",
              "      <td>9614.000000</td>\n",
              "      <td>9614.000000</td>\n",
              "    </tr>\n",
              "    <tr>\n",
              "      <th>mean</th>\n",
              "      <td>38.731329</td>\n",
              "      <td>1.882948e+05</td>\n",
              "      <td>10.080092</td>\n",
              "      <td>1121.998232</td>\n",
              "      <td>87.926669</td>\n",
              "      <td>40.522987</td>\n",
              "      <td>0.234866</td>\n",
              "    </tr>\n",
              "    <tr>\n",
              "      <th>std</th>\n",
              "      <td>13.842687</td>\n",
              "      <td>1.051352e+05</td>\n",
              "      <td>2.562733</td>\n",
              "      <td>7890.578253</td>\n",
              "      <td>404.085647</td>\n",
              "      <td>12.416221</td>\n",
              "      <td>0.423937</td>\n",
              "    </tr>\n",
              "    <tr>\n",
              "      <th>min</th>\n",
              "      <td>17.000000</td>\n",
              "      <td>1.376900e+04</td>\n",
              "      <td>1.000000</td>\n",
              "      <td>0.000000</td>\n",
              "      <td>0.000000</td>\n",
              "      <td>1.000000</td>\n",
              "      <td>0.000000</td>\n",
              "    </tr>\n",
              "    <tr>\n",
              "      <th>25%</th>\n",
              "      <td>28.000000</td>\n",
              "      <td>1.154652e+05</td>\n",
              "      <td>9.000000</td>\n",
              "      <td>0.000000</td>\n",
              "      <td>0.000000</td>\n",
              "      <td>40.000000</td>\n",
              "      <td>0.000000</td>\n",
              "    </tr>\n",
              "    <tr>\n",
              "      <th>50%</th>\n",
              "      <td>37.000000</td>\n",
              "      <td>1.778450e+05</td>\n",
              "      <td>10.000000</td>\n",
              "      <td>0.000000</td>\n",
              "      <td>0.000000</td>\n",
              "      <td>40.000000</td>\n",
              "      <td>0.000000</td>\n",
              "    </tr>\n",
              "    <tr>\n",
              "      <th>75%</th>\n",
              "      <td>48.000000</td>\n",
              "      <td>2.374175e+05</td>\n",
              "      <td>12.000000</td>\n",
              "      <td>0.000000</td>\n",
              "      <td>0.000000</td>\n",
              "      <td>45.000000</td>\n",
              "      <td>0.000000</td>\n",
              "    </tr>\n",
              "    <tr>\n",
              "      <th>max</th>\n",
              "      <td>90.000000</td>\n",
              "      <td>1.490400e+06</td>\n",
              "      <td>16.000000</td>\n",
              "      <td>99999.000000</td>\n",
              "      <td>3770.000000</td>\n",
              "      <td>99.000000</td>\n",
              "      <td>1.000000</td>\n",
              "    </tr>\n",
              "  </tbody>\n",
              "</table>\n",
              "</div>\n",
              "      <button class=\"colab-df-convert\" onclick=\"convertToInteractive('df-3c75ce1b-4b27-4b82-a0b7-cb75fff99765')\"\n",
              "              title=\"Convert this dataframe to an interactive table.\"\n",
              "              style=\"display:none;\">\n",
              "        \n",
              "  <svg xmlns=\"http://www.w3.org/2000/svg\" height=\"24px\"viewBox=\"0 0 24 24\"\n",
              "       width=\"24px\">\n",
              "    <path d=\"M0 0h24v24H0V0z\" fill=\"none\"/>\n",
              "    <path d=\"M18.56 5.44l.94 2.06.94-2.06 2.06-.94-2.06-.94-.94-2.06-.94 2.06-2.06.94zm-11 1L8.5 8.5l.94-2.06 2.06-.94-2.06-.94L8.5 2.5l-.94 2.06-2.06.94zm10 10l.94 2.06.94-2.06 2.06-.94-2.06-.94-.94-2.06-.94 2.06-2.06.94z\"/><path d=\"M17.41 7.96l-1.37-1.37c-.4-.4-.92-.59-1.43-.59-.52 0-1.04.2-1.43.59L10.3 9.45l-7.72 7.72c-.78.78-.78 2.05 0 2.83L4 21.41c.39.39.9.59 1.41.59.51 0 1.02-.2 1.41-.59l7.78-7.78 2.81-2.81c.8-.78.8-2.07 0-2.86zM5.41 20L4 18.59l7.72-7.72 1.47 1.35L5.41 20z\"/>\n",
              "  </svg>\n",
              "      </button>\n",
              "      \n",
              "  <style>\n",
              "    .colab-df-container {\n",
              "      display:flex;\n",
              "      flex-wrap:wrap;\n",
              "      gap: 12px;\n",
              "    }\n",
              "\n",
              "    .colab-df-convert {\n",
              "      background-color: #E8F0FE;\n",
              "      border: none;\n",
              "      border-radius: 50%;\n",
              "      cursor: pointer;\n",
              "      display: none;\n",
              "      fill: #1967D2;\n",
              "      height: 32px;\n",
              "      padding: 0 0 0 0;\n",
              "      width: 32px;\n",
              "    }\n",
              "\n",
              "    .colab-df-convert:hover {\n",
              "      background-color: #E2EBFA;\n",
              "      box-shadow: 0px 1px 2px rgba(60, 64, 67, 0.3), 0px 1px 3px 1px rgba(60, 64, 67, 0.15);\n",
              "      fill: #174EA6;\n",
              "    }\n",
              "\n",
              "    [theme=dark] .colab-df-convert {\n",
              "      background-color: #3B4455;\n",
              "      fill: #D2E3FC;\n",
              "    }\n",
              "\n",
              "    [theme=dark] .colab-df-convert:hover {\n",
              "      background-color: #434B5C;\n",
              "      box-shadow: 0px 1px 3px 1px rgba(0, 0, 0, 0.15);\n",
              "      filter: drop-shadow(0px 1px 2px rgba(0, 0, 0, 0.3));\n",
              "      fill: #FFFFFF;\n",
              "    }\n",
              "  </style>\n",
              "\n",
              "      <script>\n",
              "        const buttonEl =\n",
              "          document.querySelector('#df-3c75ce1b-4b27-4b82-a0b7-cb75fff99765 button.colab-df-convert');\n",
              "        buttonEl.style.display =\n",
              "          google.colab.kernel.accessAllowed ? 'block' : 'none';\n",
              "\n",
              "        async function convertToInteractive(key) {\n",
              "          const element = document.querySelector('#df-3c75ce1b-4b27-4b82-a0b7-cb75fff99765');\n",
              "          const dataTable =\n",
              "            await google.colab.kernel.invokeFunction('convertToInteractive',\n",
              "                                                     [key], {});\n",
              "          if (!dataTable) return;\n",
              "\n",
              "          const docLinkHtml = 'Like what you see? Visit the ' +\n",
              "            '<a target=\"_blank\" href=https://colab.research.google.com/notebooks/data_table.ipynb>data table notebook</a>'\n",
              "            + ' to learn more about interactive tables.';\n",
              "          element.innerHTML = '';\n",
              "          dataTable['output_type'] = 'display_data';\n",
              "          await google.colab.output.renderOutput(dataTable, element);\n",
              "          const docLink = document.createElement('div');\n",
              "          docLink.innerHTML = docLinkHtml;\n",
              "          element.appendChild(docLink);\n",
              "        }\n",
              "      </script>\n",
              "    </div>\n",
              "  </div>\n",
              "  "
            ]
          },
          "metadata": {},
          "execution_count": 317
        }
      ]
    },
    {
      "cell_type": "markdown",
      "source": [
        "Строим матрицу корреляции"
      ],
      "metadata": {
        "id": "wKW8Q50YYqXu"
      }
    },
    {
      "cell_type": "code",
      "source": [
        "corr = data.corr()\n",
        "corr.style.background_gradient(cmap='coolwarm')"
      ],
      "metadata": {
        "colab": {
          "base_uri": "https://localhost:8080/"
        },
        "id": "oAaVUGwEYnEz",
        "outputId": "0f8facab-2d7c-4159-cd89-3c6a46f99def"
      },
      "execution_count": null,
      "outputs": [
        {
          "output_type": "execute_result",
          "data": {
            "text/plain": [
              "<pandas.io.formats.style.Styler at 0x7f3da05baca0>"
            ],
            "text/html": [
              "<style type=\"text/css\">\n",
              "#T_2ce5c_row0_col0, #T_2ce5c_row1_col1, #T_2ce5c_row2_col2, #T_2ce5c_row3_col3, #T_2ce5c_row4_col4, #T_2ce5c_row5_col5, #T_2ce5c_row6_col6 {\n",
              "  background-color: #b40426;\n",
              "  color: #f1f1f1;\n",
              "}\n",
              "#T_2ce5c_row0_col1, #T_2ce5c_row1_col0, #T_2ce5c_row1_col2, #T_2ce5c_row1_col5, #T_2ce5c_row1_col6, #T_2ce5c_row3_col4, #T_2ce5c_row4_col3 {\n",
              "  background-color: #3b4cc0;\n",
              "  color: #f1f1f1;\n",
              "}\n",
              "#T_2ce5c_row0_col2, #T_2ce5c_row1_col4 {\n",
              "  background-color: #4358cb;\n",
              "  color: #f1f1f1;\n",
              "}\n",
              "#T_2ce5c_row0_col3, #T_2ce5c_row2_col4 {\n",
              "  background-color: #5d7ce6;\n",
              "  color: #f1f1f1;\n",
              "}\n",
              "#T_2ce5c_row0_col4 {\n",
              "  background-color: #536edd;\n",
              "  color: #f1f1f1;\n",
              "}\n",
              "#T_2ce5c_row0_col5 {\n",
              "  background-color: #5572df;\n",
              "  color: #f1f1f1;\n",
              "}\n",
              "#T_2ce5c_row0_col6 {\n",
              "  background-color: #85a8fc;\n",
              "  color: #f1f1f1;\n",
              "}\n",
              "#T_2ce5c_row1_col3 {\n",
              "  background-color: #4257c9;\n",
              "  color: #f1f1f1;\n",
              "}\n",
              "#T_2ce5c_row2_col0, #T_2ce5c_row5_col4 {\n",
              "  background-color: #5470de;\n",
              "  color: #f1f1f1;\n",
              "}\n",
              "#T_2ce5c_row2_col1 {\n",
              "  background-color: #4a63d3;\n",
              "  color: #f1f1f1;\n",
              "}\n",
              "#T_2ce5c_row2_col3, #T_2ce5c_row5_col2 {\n",
              "  background-color: #6c8ff1;\n",
              "  color: #f1f1f1;\n",
              "}\n",
              "#T_2ce5c_row2_col5 {\n",
              "  background-color: #6687ed;\n",
              "  color: #f1f1f1;\n",
              "}\n",
              "#T_2ce5c_row2_col6 {\n",
              "  background-color: #a6c4fe;\n",
              "  color: #000000;\n",
              "}\n",
              "#T_2ce5c_row3_col0, #T_2ce5c_row5_col0 {\n",
              "  background-color: #6a8bef;\n",
              "  color: #f1f1f1;\n",
              "}\n",
              "#T_2ce5c_row3_col1 {\n",
              "  background-color: #4f69d9;\n",
              "  color: #f1f1f1;\n",
              "}\n",
              "#T_2ce5c_row3_col2 {\n",
              "  background-color: #6b8df0;\n",
              "  color: #f1f1f1;\n",
              "}\n",
              "#T_2ce5c_row3_col5, #T_2ce5c_row4_col2 {\n",
              "  background-color: #5a78e4;\n",
              "  color: #f1f1f1;\n",
              "}\n",
              "#T_2ce5c_row3_col6 {\n",
              "  background-color: #84a7fc;\n",
              "  color: #f1f1f1;\n",
              "}\n",
              "#T_2ce5c_row4_col0 {\n",
              "  background-color: #6180e9;\n",
              "  color: #f1f1f1;\n",
              "}\n",
              "#T_2ce5c_row4_col1 {\n",
              "  background-color: #516ddb;\n",
              "  color: #f1f1f1;\n",
              "}\n",
              "#T_2ce5c_row4_col5 {\n",
              "  background-color: #4c66d6;\n",
              "  color: #f1f1f1;\n",
              "}\n",
              "#T_2ce5c_row4_col6 {\n",
              "  background-color: #6788ee;\n",
              "  color: #f1f1f1;\n",
              "}\n",
              "#T_2ce5c_row5_col1, #T_2ce5c_row6_col1 {\n",
              "  background-color: #506bda;\n",
              "  color: #f1f1f1;\n",
              "}\n",
              "#T_2ce5c_row5_col3 {\n",
              "  background-color: #6282ea;\n",
              "  color: #f1f1f1;\n",
              "}\n",
              "#T_2ce5c_row5_col6, #T_2ce5c_row6_col5 {\n",
              "  background-color: #86a9fc;\n",
              "  color: #f1f1f1;\n",
              "}\n",
              "#T_2ce5c_row6_col0 {\n",
              "  background-color: #98b9ff;\n",
              "  color: #000000;\n",
              "}\n",
              "#T_2ce5c_row6_col2 {\n",
              "  background-color: #abc8fd;\n",
              "  color: #000000;\n",
              "}\n",
              "#T_2ce5c_row6_col3 {\n",
              "  background-color: #8badfd;\n",
              "  color: #000000;\n",
              "}\n",
              "#T_2ce5c_row6_col4 {\n",
              "  background-color: #6f92f3;\n",
              "  color: #f1f1f1;\n",
              "}\n",
              "</style>\n",
              "<table id=\"T_2ce5c_\" class=\"dataframe\">\n",
              "  <thead>\n",
              "    <tr>\n",
              "      <th class=\"blank level0\" >&nbsp;</th>\n",
              "      <th class=\"col_heading level0 col0\" >age</th>\n",
              "      <th class=\"col_heading level0 col1\" >fnlwgt</th>\n",
              "      <th class=\"col_heading level0 col2\" >educational-num</th>\n",
              "      <th class=\"col_heading level0 col3\" >capital-gain</th>\n",
              "      <th class=\"col_heading level0 col4\" >capital-loss</th>\n",
              "      <th class=\"col_heading level0 col5\" >hours-per-week</th>\n",
              "      <th class=\"col_heading level0 col6\" >income</th>\n",
              "    </tr>\n",
              "  </thead>\n",
              "  <tbody>\n",
              "    <tr>\n",
              "      <th id=\"T_2ce5c_level0_row0\" class=\"row_heading level0 row0\" >age</th>\n",
              "      <td id=\"T_2ce5c_row0_col0\" class=\"data row0 col0\" >1.000000</td>\n",
              "      <td id=\"T_2ce5c_row0_col1\" class=\"data row0 col1\" >-0.081938</td>\n",
              "      <td id=\"T_2ce5c_row0_col2\" class=\"data row0 col2\" >0.006905</td>\n",
              "      <td id=\"T_2ce5c_row0_col3\" class=\"data row0 col3\" >0.082360</td>\n",
              "      <td id=\"T_2ce5c_row0_col4\" class=\"data row0 col4\" >0.052424</td>\n",
              "      <td id=\"T_2ce5c_row0_col5\" class=\"data row0 col5\" >0.081728</td>\n",
              "      <td id=\"T_2ce5c_row0_col6\" class=\"data row0 col6\" >0.224250</td>\n",
              "    </tr>\n",
              "    <tr>\n",
              "      <th id=\"T_2ce5c_level0_row1\" class=\"row_heading level0 row1\" >fnlwgt</th>\n",
              "      <td id=\"T_2ce5c_row1_col0\" class=\"data row1 col0\" >-0.081938</td>\n",
              "      <td id=\"T_2ce5c_row1_col1\" class=\"data row1 col1\" >1.000000</td>\n",
              "      <td id=\"T_2ce5c_row1_col2\" class=\"data row1 col2\" >-0.024398</td>\n",
              "      <td id=\"T_2ce5c_row1_col3\" class=\"data row1 col3\" >-0.005989</td>\n",
              "      <td id=\"T_2ce5c_row1_col4\" class=\"data row1 col4\" >-0.000409</td>\n",
              "      <td id=\"T_2ce5c_row1_col5\" class=\"data row1 col5\" >-0.004686</td>\n",
              "      <td id=\"T_2ce5c_row1_col6\" class=\"data row1 col6\" >-0.003089</td>\n",
              "    </tr>\n",
              "    <tr>\n",
              "      <th id=\"T_2ce5c_level0_row2\" class=\"row_heading level0 row2\" >educational-num</th>\n",
              "      <td id=\"T_2ce5c_row2_col0\" class=\"data row2 col0\" >0.006905</td>\n",
              "      <td id=\"T_2ce5c_row2_col1\" class=\"data row2 col1\" >-0.024398</td>\n",
              "      <td id=\"T_2ce5c_row2_col2\" class=\"data row2 col2\" >1.000000</td>\n",
              "      <td id=\"T_2ce5c_row2_col3\" class=\"data row2 col3\" >0.132639</td>\n",
              "      <td id=\"T_2ce5c_row2_col4\" class=\"data row2 col4\" >0.083546</td>\n",
              "      <td id=\"T_2ce5c_row2_col5\" class=\"data row2 col5\" >0.136237</td>\n",
              "      <td id=\"T_2ce5c_row2_col6\" class=\"data row2 col6\" >0.320775</td>\n",
              "    </tr>\n",
              "    <tr>\n",
              "      <th id=\"T_2ce5c_level0_row3\" class=\"row_heading level0 row3\" >capital-gain</th>\n",
              "      <td id=\"T_2ce5c_row3_col0\" class=\"data row3 col0\" >0.082360</td>\n",
              "      <td id=\"T_2ce5c_row3_col1\" class=\"data row3 col1\" >-0.005989</td>\n",
              "      <td id=\"T_2ce5c_row3_col2\" class=\"data row3 col2\" >0.132639</td>\n",
              "      <td id=\"T_2ce5c_row3_col3\" class=\"data row3 col3\" >1.000000</td>\n",
              "      <td id=\"T_2ce5c_row3_col4\" class=\"data row3 col4\" >-0.030944</td>\n",
              "      <td id=\"T_2ce5c_row3_col5\" class=\"data row3 col5\" >0.098911</td>\n",
              "      <td id=\"T_2ce5c_row3_col6\" class=\"data row3 col6\" >0.221998</td>\n",
              "    </tr>\n",
              "    <tr>\n",
              "      <th id=\"T_2ce5c_level0_row4\" class=\"row_heading level0 row4\" >capital-loss</th>\n",
              "      <td id=\"T_2ce5c_row4_col0\" class=\"data row4 col0\" >0.052424</td>\n",
              "      <td id=\"T_2ce5c_row4_col1\" class=\"data row4 col1\" >-0.000409</td>\n",
              "      <td id=\"T_2ce5c_row4_col2\" class=\"data row4 col2\" >0.083546</td>\n",
              "      <td id=\"T_2ce5c_row4_col3\" class=\"data row4 col3\" >-0.030944</td>\n",
              "      <td id=\"T_2ce5c_row4_col4\" class=\"data row4 col4\" >1.000000</td>\n",
              "      <td id=\"T_2ce5c_row4_col5\" class=\"data row4 col5\" >0.056343</td>\n",
              "      <td id=\"T_2ce5c_row4_col6\" class=\"data row4 col6\" >0.139776</td>\n",
              "    </tr>\n",
              "    <tr>\n",
              "      <th id=\"T_2ce5c_level0_row5\" class=\"row_heading level0 row5\" >hours-per-week</th>\n",
              "      <td id=\"T_2ce5c_row5_col0\" class=\"data row5 col0\" >0.081728</td>\n",
              "      <td id=\"T_2ce5c_row5_col1\" class=\"data row5 col1\" >-0.004686</td>\n",
              "      <td id=\"T_2ce5c_row5_col2\" class=\"data row5 col2\" >0.136237</td>\n",
              "      <td id=\"T_2ce5c_row5_col3\" class=\"data row5 col3\" >0.098911</td>\n",
              "      <td id=\"T_2ce5c_row5_col4\" class=\"data row5 col4\" >0.056343</td>\n",
              "      <td id=\"T_2ce5c_row5_col5\" class=\"data row5 col5\" >1.000000</td>\n",
              "      <td id=\"T_2ce5c_row5_col6\" class=\"data row5 col6\" >0.228856</td>\n",
              "    </tr>\n",
              "    <tr>\n",
              "      <th id=\"T_2ce5c_level0_row6\" class=\"row_heading level0 row6\" >income</th>\n",
              "      <td id=\"T_2ce5c_row6_col0\" class=\"data row6 col0\" >0.224250</td>\n",
              "      <td id=\"T_2ce5c_row6_col1\" class=\"data row6 col1\" >-0.003089</td>\n",
              "      <td id=\"T_2ce5c_row6_col2\" class=\"data row6 col2\" >0.320775</td>\n",
              "      <td id=\"T_2ce5c_row6_col3\" class=\"data row6 col3\" >0.221998</td>\n",
              "      <td id=\"T_2ce5c_row6_col4\" class=\"data row6 col4\" >0.139776</td>\n",
              "      <td id=\"T_2ce5c_row6_col5\" class=\"data row6 col5\" >0.228856</td>\n",
              "      <td id=\"T_2ce5c_row6_col6\" class=\"data row6 col6\" >1.000000</td>\n",
              "    </tr>\n",
              "  </tbody>\n",
              "</table>\n"
            ]
          },
          "metadata": {},
          "execution_count": 318
        }
      ]
    },
    {
      "cell_type": "markdown",
      "source": [
        "Корреляция с признаком fnlwgt крайне слабая, удалим его"
      ],
      "metadata": {
        "id": "n08r36GIavlS"
      }
    },
    {
      "cell_type": "code",
      "source": [
        "data = data.drop(['fnlwgt'],axis=1)"
      ],
      "metadata": {
        "id": "8oJwaNxIa73g"
      },
      "execution_count": null,
      "outputs": []
    },
    {
      "cell_type": "code",
      "source": [
        "corr = data.corr()\n",
        "corr.style.background_gradient(cmap='coolwarm')"
      ],
      "metadata": {
        "colab": {
          "base_uri": "https://localhost:8080/"
        },
        "id": "7xXREeJ6bBCB",
        "outputId": "8858a46b-0bc2-4a17-de2e-275991825e63"
      },
      "execution_count": null,
      "outputs": [
        {
          "output_type": "execute_result",
          "data": {
            "text/plain": [
              "<pandas.io.formats.style.Styler at 0x7f3d88a18490>"
            ],
            "text/html": [
              "<style type=\"text/css\">\n",
              "#T_f44c1_row0_col0, #T_f44c1_row1_col1, #T_f44c1_row2_col2, #T_f44c1_row3_col3, #T_f44c1_row4_col4, #T_f44c1_row5_col5 {\n",
              "  background-color: #b40426;\n",
              "  color: #f1f1f1;\n",
              "}\n",
              "#T_f44c1_row0_col1, #T_f44c1_row1_col0, #T_f44c1_row2_col3, #T_f44c1_row3_col2, #T_f44c1_row3_col4, #T_f44c1_row3_col5 {\n",
              "  background-color: #3b4cc0;\n",
              "  color: #f1f1f1;\n",
              "}\n",
              "#T_f44c1_row0_col2, #T_f44c1_row1_col3 {\n",
              "  background-color: #5d7ce6;\n",
              "  color: #f1f1f1;\n",
              "}\n",
              "#T_f44c1_row0_col3 {\n",
              "  background-color: #536edd;\n",
              "  color: #f1f1f1;\n",
              "}\n",
              "#T_f44c1_row0_col4 {\n",
              "  background-color: #4257c9;\n",
              "  color: #f1f1f1;\n",
              "}\n",
              "#T_f44c1_row0_col5 {\n",
              "  background-color: #5977e3;\n",
              "  color: #f1f1f1;\n",
              "}\n",
              "#T_f44c1_row1_col2 {\n",
              "  background-color: #6c8ff1;\n",
              "  color: #f1f1f1;\n",
              "}\n",
              "#T_f44c1_row1_col4, #T_f44c1_row4_col3 {\n",
              "  background-color: #5470de;\n",
              "  color: #f1f1f1;\n",
              "}\n",
              "#T_f44c1_row1_col5 {\n",
              "  background-color: #7ea1fa;\n",
              "  color: #f1f1f1;\n",
              "}\n",
              "#T_f44c1_row2_col0, #T_f44c1_row3_col1, #T_f44c1_row4_col0 {\n",
              "  background-color: #516ddb;\n",
              "  color: #f1f1f1;\n",
              "}\n",
              "#T_f44c1_row2_col1, #T_f44c1_row4_col2 {\n",
              "  background-color: #6282ea;\n",
              "  color: #f1f1f1;\n",
              "}\n",
              "#T_f44c1_row2_col4, #T_f44c1_row3_col0 {\n",
              "  background-color: #485fd1;\n",
              "  color: #f1f1f1;\n",
              "}\n",
              "#T_f44c1_row2_col5 {\n",
              "  background-color: #5875e1;\n",
              "  color: #f1f1f1;\n",
              "}\n",
              "#T_f44c1_row4_col1 {\n",
              "  background-color: #6384eb;\n",
              "  color: #f1f1f1;\n",
              "}\n",
              "#T_f44c1_row4_col5 {\n",
              "  background-color: #5a78e4;\n",
              "  color: #f1f1f1;\n",
              "}\n",
              "#T_f44c1_row5_col0 {\n",
              "  background-color: #82a6fb;\n",
              "  color: #f1f1f1;\n",
              "}\n",
              "#T_f44c1_row5_col1 {\n",
              "  background-color: #a3c2fe;\n",
              "  color: #000000;\n",
              "}\n",
              "#T_f44c1_row5_col2 {\n",
              "  background-color: #8badfd;\n",
              "  color: #000000;\n",
              "}\n",
              "#T_f44c1_row5_col3 {\n",
              "  background-color: #6f92f3;\n",
              "  color: #f1f1f1;\n",
              "}\n",
              "#T_f44c1_row5_col4 {\n",
              "  background-color: #7597f6;\n",
              "  color: #f1f1f1;\n",
              "}\n",
              "</style>\n",
              "<table id=\"T_f44c1_\" class=\"dataframe\">\n",
              "  <thead>\n",
              "    <tr>\n",
              "      <th class=\"blank level0\" >&nbsp;</th>\n",
              "      <th class=\"col_heading level0 col0\" >age</th>\n",
              "      <th class=\"col_heading level0 col1\" >educational-num</th>\n",
              "      <th class=\"col_heading level0 col2\" >capital-gain</th>\n",
              "      <th class=\"col_heading level0 col3\" >capital-loss</th>\n",
              "      <th class=\"col_heading level0 col4\" >hours-per-week</th>\n",
              "      <th class=\"col_heading level0 col5\" >income</th>\n",
              "    </tr>\n",
              "  </thead>\n",
              "  <tbody>\n",
              "    <tr>\n",
              "      <th id=\"T_f44c1_level0_row0\" class=\"row_heading level0 row0\" >age</th>\n",
              "      <td id=\"T_f44c1_row0_col0\" class=\"data row0 col0\" >1.000000</td>\n",
              "      <td id=\"T_f44c1_row0_col1\" class=\"data row0 col1\" >0.006905</td>\n",
              "      <td id=\"T_f44c1_row0_col2\" class=\"data row0 col2\" >0.082360</td>\n",
              "      <td id=\"T_f44c1_row0_col3\" class=\"data row0 col3\" >0.052424</td>\n",
              "      <td id=\"T_f44c1_row0_col4\" class=\"data row0 col4\" >0.081728</td>\n",
              "      <td id=\"T_f44c1_row0_col5\" class=\"data row0 col5\" >0.224250</td>\n",
              "    </tr>\n",
              "    <tr>\n",
              "      <th id=\"T_f44c1_level0_row1\" class=\"row_heading level0 row1\" >educational-num</th>\n",
              "      <td id=\"T_f44c1_row1_col0\" class=\"data row1 col0\" >0.006905</td>\n",
              "      <td id=\"T_f44c1_row1_col1\" class=\"data row1 col1\" >1.000000</td>\n",
              "      <td id=\"T_f44c1_row1_col2\" class=\"data row1 col2\" >0.132639</td>\n",
              "      <td id=\"T_f44c1_row1_col3\" class=\"data row1 col3\" >0.083546</td>\n",
              "      <td id=\"T_f44c1_row1_col4\" class=\"data row1 col4\" >0.136237</td>\n",
              "      <td id=\"T_f44c1_row1_col5\" class=\"data row1 col5\" >0.320775</td>\n",
              "    </tr>\n",
              "    <tr>\n",
              "      <th id=\"T_f44c1_level0_row2\" class=\"row_heading level0 row2\" >capital-gain</th>\n",
              "      <td id=\"T_f44c1_row2_col0\" class=\"data row2 col0\" >0.082360</td>\n",
              "      <td id=\"T_f44c1_row2_col1\" class=\"data row2 col1\" >0.132639</td>\n",
              "      <td id=\"T_f44c1_row2_col2\" class=\"data row2 col2\" >1.000000</td>\n",
              "      <td id=\"T_f44c1_row2_col3\" class=\"data row2 col3\" >-0.030944</td>\n",
              "      <td id=\"T_f44c1_row2_col4\" class=\"data row2 col4\" >0.098911</td>\n",
              "      <td id=\"T_f44c1_row2_col5\" class=\"data row2 col5\" >0.221998</td>\n",
              "    </tr>\n",
              "    <tr>\n",
              "      <th id=\"T_f44c1_level0_row3\" class=\"row_heading level0 row3\" >capital-loss</th>\n",
              "      <td id=\"T_f44c1_row3_col0\" class=\"data row3 col0\" >0.052424</td>\n",
              "      <td id=\"T_f44c1_row3_col1\" class=\"data row3 col1\" >0.083546</td>\n",
              "      <td id=\"T_f44c1_row3_col2\" class=\"data row3 col2\" >-0.030944</td>\n",
              "      <td id=\"T_f44c1_row3_col3\" class=\"data row3 col3\" >1.000000</td>\n",
              "      <td id=\"T_f44c1_row3_col4\" class=\"data row3 col4\" >0.056343</td>\n",
              "      <td id=\"T_f44c1_row3_col5\" class=\"data row3 col5\" >0.139776</td>\n",
              "    </tr>\n",
              "    <tr>\n",
              "      <th id=\"T_f44c1_level0_row4\" class=\"row_heading level0 row4\" >hours-per-week</th>\n",
              "      <td id=\"T_f44c1_row4_col0\" class=\"data row4 col0\" >0.081728</td>\n",
              "      <td id=\"T_f44c1_row4_col1\" class=\"data row4 col1\" >0.136237</td>\n",
              "      <td id=\"T_f44c1_row4_col2\" class=\"data row4 col2\" >0.098911</td>\n",
              "      <td id=\"T_f44c1_row4_col3\" class=\"data row4 col3\" >0.056343</td>\n",
              "      <td id=\"T_f44c1_row4_col4\" class=\"data row4 col4\" >1.000000</td>\n",
              "      <td id=\"T_f44c1_row4_col5\" class=\"data row4 col5\" >0.228856</td>\n",
              "    </tr>\n",
              "    <tr>\n",
              "      <th id=\"T_f44c1_level0_row5\" class=\"row_heading level0 row5\" >income</th>\n",
              "      <td id=\"T_f44c1_row5_col0\" class=\"data row5 col0\" >0.224250</td>\n",
              "      <td id=\"T_f44c1_row5_col1\" class=\"data row5 col1\" >0.320775</td>\n",
              "      <td id=\"T_f44c1_row5_col2\" class=\"data row5 col2\" >0.221998</td>\n",
              "      <td id=\"T_f44c1_row5_col3\" class=\"data row5 col3\" >0.139776</td>\n",
              "      <td id=\"T_f44c1_row5_col4\" class=\"data row5 col4\" >0.228856</td>\n",
              "      <td id=\"T_f44c1_row5_col5\" class=\"data row5 col5\" >1.000000</td>\n",
              "    </tr>\n",
              "  </tbody>\n",
              "</table>\n"
            ]
          },
          "metadata": {},
          "execution_count": 320
        }
      ]
    },
    {
      "cell_type": "markdown",
      "source": [
        "## <font color='green'>2.1. Обучение модели</font>\n",
        "\n"
      ],
      "metadata": {
        "id": "YKqPYfZ3N1Bp"
      }
    },
    {
      "cell_type": "markdown",
      "source": [
        "Сформируем матрицу X объект-признак и вектор y целевой переменной."
      ],
      "metadata": {
        "id": "YXUwlNSx49ZS"
      }
    },
    {
      "cell_type": "code",
      "source": [
        "X = data.drop('income', axis=1) # матрица объект-признак\n",
        "y = data['income'] # целевая переменная"
      ],
      "metadata": {
        "id": "cgetIc6vRgMi"
      },
      "execution_count": null,
      "outputs": []
    },
    {
      "cell_type": "code",
      "source": [
        "#X_full = X.copy()"
      ],
      "metadata": {
        "id": "eLjJi-Oi4Lir"
      },
      "execution_count": null,
      "outputs": []
    },
    {
      "cell_type": "markdown",
      "source": [
        "Мы разбиваем данные на train и test, чтобы:\n",
        "* на тренировочных данных обучить модель\n",
        "* на тестовых применить обученную модель и затем проверить качество модели"
      ],
      "metadata": {
        "id": "lgyjOFNwR1p4"
      }
    },
    {
      "cell_type": "code",
      "execution_count": null,
      "metadata": {
        "id": "O4IcPGEOhtwe"
      },
      "outputs": [],
      "source": [
        "from sklearn.metrics import accuracy_score\n",
        "from sklearn.model_selection import train_test_split\n",
        "\n",
        "Xtrain, Xtest, ytrain, ytest = train_test_split(X, y, test_size=0.25, random_state=42)"
      ]
    },
    {
      "cell_type": "markdown",
      "source": [
        "Для линейных моделей очень важно масштабирование признаков. Поэтому отмасштабируем признаки при помощи StandardScaler, обучив метод на тренировочных данных и применив его и к трейну, и к тесту."
      ],
      "metadata": {
        "id": "GbuDWle1z2Uh"
      }
    },
    {
      "cell_type": "code",
      "source": [
        "# import pandas as pd\n",
        "from sklearn.preprocessing import StandardScaler\n",
        "\n",
        "ss = StandardScaler()\n",
        "ss.fit(Xtrain)\n",
        "\n",
        "Xtrain = pd.DataFrame(ss.transform(Xtrain), columns=X.columns)\n",
        "Xtest = pd.DataFrame(ss.transform(Xtest), columns=X.columns)\n",
        "\n",
        "Xtrain.head()"
      ],
      "metadata": {
        "id": "69H1fh7VzaZf",
        "colab": {
          "base_uri": "https://localhost:8080/"
        },
        "outputId": "93c030c6-4af3-4635-a755-945f0f205d3f"
      },
      "execution_count": null,
      "outputs": [
        {
          "output_type": "execute_result",
          "data": {
            "text/plain": [
              "        age  educational-num  capital-gain  capital-loss  hours-per-week\n",
              "0 -1.436662        -0.032251     -0.145108     -0.221089       -2.160013\n",
              "1 -1.291984        -0.032251     -0.145108     -0.221089       -0.043911\n",
              "2 -1.002627        -0.419154     -0.145108     -0.221089        0.769974\n",
              "3 -0.568591         1.128459     -0.145108     -0.221089       -0.450854\n",
              "4 -0.423912         1.128459     -0.145108     -0.221089        1.176916"
            ],
            "text/html": [
              "\n",
              "  <div id=\"df-880eec3b-c6f1-4f92-974a-9e7ee8abdec0\">\n",
              "    <div class=\"colab-df-container\">\n",
              "      <div>\n",
              "<style scoped>\n",
              "    .dataframe tbody tr th:only-of-type {\n",
              "        vertical-align: middle;\n",
              "    }\n",
              "\n",
              "    .dataframe tbody tr th {\n",
              "        vertical-align: top;\n",
              "    }\n",
              "\n",
              "    .dataframe thead th {\n",
              "        text-align: right;\n",
              "    }\n",
              "</style>\n",
              "<table border=\"1\" class=\"dataframe\">\n",
              "  <thead>\n",
              "    <tr style=\"text-align: right;\">\n",
              "      <th></th>\n",
              "      <th>age</th>\n",
              "      <th>educational-num</th>\n",
              "      <th>capital-gain</th>\n",
              "      <th>capital-loss</th>\n",
              "      <th>hours-per-week</th>\n",
              "    </tr>\n",
              "  </thead>\n",
              "  <tbody>\n",
              "    <tr>\n",
              "      <th>0</th>\n",
              "      <td>-1.436662</td>\n",
              "      <td>-0.032251</td>\n",
              "      <td>-0.145108</td>\n",
              "      <td>-0.221089</td>\n",
              "      <td>-2.160013</td>\n",
              "    </tr>\n",
              "    <tr>\n",
              "      <th>1</th>\n",
              "      <td>-1.291984</td>\n",
              "      <td>-0.032251</td>\n",
              "      <td>-0.145108</td>\n",
              "      <td>-0.221089</td>\n",
              "      <td>-0.043911</td>\n",
              "    </tr>\n",
              "    <tr>\n",
              "      <th>2</th>\n",
              "      <td>-1.002627</td>\n",
              "      <td>-0.419154</td>\n",
              "      <td>-0.145108</td>\n",
              "      <td>-0.221089</td>\n",
              "      <td>0.769974</td>\n",
              "    </tr>\n",
              "    <tr>\n",
              "      <th>3</th>\n",
              "      <td>-0.568591</td>\n",
              "      <td>1.128459</td>\n",
              "      <td>-0.145108</td>\n",
              "      <td>-0.221089</td>\n",
              "      <td>-0.450854</td>\n",
              "    </tr>\n",
              "    <tr>\n",
              "      <th>4</th>\n",
              "      <td>-0.423912</td>\n",
              "      <td>1.128459</td>\n",
              "      <td>-0.145108</td>\n",
              "      <td>-0.221089</td>\n",
              "      <td>1.176916</td>\n",
              "    </tr>\n",
              "  </tbody>\n",
              "</table>\n",
              "</div>\n",
              "      <button class=\"colab-df-convert\" onclick=\"convertToInteractive('df-880eec3b-c6f1-4f92-974a-9e7ee8abdec0')\"\n",
              "              title=\"Convert this dataframe to an interactive table.\"\n",
              "              style=\"display:none;\">\n",
              "        \n",
              "  <svg xmlns=\"http://www.w3.org/2000/svg\" height=\"24px\"viewBox=\"0 0 24 24\"\n",
              "       width=\"24px\">\n",
              "    <path d=\"M0 0h24v24H0V0z\" fill=\"none\"/>\n",
              "    <path d=\"M18.56 5.44l.94 2.06.94-2.06 2.06-.94-2.06-.94-.94-2.06-.94 2.06-2.06.94zm-11 1L8.5 8.5l.94-2.06 2.06-.94-2.06-.94L8.5 2.5l-.94 2.06-2.06.94zm10 10l.94 2.06.94-2.06 2.06-.94-2.06-.94-.94-2.06-.94 2.06-2.06.94z\"/><path d=\"M17.41 7.96l-1.37-1.37c-.4-.4-.92-.59-1.43-.59-.52 0-1.04.2-1.43.59L10.3 9.45l-7.72 7.72c-.78.78-.78 2.05 0 2.83L4 21.41c.39.39.9.59 1.41.59.51 0 1.02-.2 1.41-.59l7.78-7.78 2.81-2.81c.8-.78.8-2.07 0-2.86zM5.41 20L4 18.59l7.72-7.72 1.47 1.35L5.41 20z\"/>\n",
              "  </svg>\n",
              "      </button>\n",
              "      \n",
              "  <style>\n",
              "    .colab-df-container {\n",
              "      display:flex;\n",
              "      flex-wrap:wrap;\n",
              "      gap: 12px;\n",
              "    }\n",
              "\n",
              "    .colab-df-convert {\n",
              "      background-color: #E8F0FE;\n",
              "      border: none;\n",
              "      border-radius: 50%;\n",
              "      cursor: pointer;\n",
              "      display: none;\n",
              "      fill: #1967D2;\n",
              "      height: 32px;\n",
              "      padding: 0 0 0 0;\n",
              "      width: 32px;\n",
              "    }\n",
              "\n",
              "    .colab-df-convert:hover {\n",
              "      background-color: #E2EBFA;\n",
              "      box-shadow: 0px 1px 2px rgba(60, 64, 67, 0.3), 0px 1px 3px 1px rgba(60, 64, 67, 0.15);\n",
              "      fill: #174EA6;\n",
              "    }\n",
              "\n",
              "    [theme=dark] .colab-df-convert {\n",
              "      background-color: #3B4455;\n",
              "      fill: #D2E3FC;\n",
              "    }\n",
              "\n",
              "    [theme=dark] .colab-df-convert:hover {\n",
              "      background-color: #434B5C;\n",
              "      box-shadow: 0px 1px 3px 1px rgba(0, 0, 0, 0.15);\n",
              "      filter: drop-shadow(0px 1px 2px rgba(0, 0, 0, 0.3));\n",
              "      fill: #FFFFFF;\n",
              "    }\n",
              "  </style>\n",
              "\n",
              "      <script>\n",
              "        const buttonEl =\n",
              "          document.querySelector('#df-880eec3b-c6f1-4f92-974a-9e7ee8abdec0 button.colab-df-convert');\n",
              "        buttonEl.style.display =\n",
              "          google.colab.kernel.accessAllowed ? 'block' : 'none';\n",
              "\n",
              "        async function convertToInteractive(key) {\n",
              "          const element = document.querySelector('#df-880eec3b-c6f1-4f92-974a-9e7ee8abdec0');\n",
              "          const dataTable =\n",
              "            await google.colab.kernel.invokeFunction('convertToInteractive',\n",
              "                                                     [key], {});\n",
              "          if (!dataTable) return;\n",
              "\n",
              "          const docLinkHtml = 'Like what you see? Visit the ' +\n",
              "            '<a target=\"_blank\" href=https://colab.research.google.com/notebooks/data_table.ipynb>data table notebook</a>'\n",
              "            + ' to learn more about interactive tables.';\n",
              "          element.innerHTML = '';\n",
              "          dataTable['output_type'] = 'display_data';\n",
              "          await google.colab.output.renderOutput(dataTable, element);\n",
              "          const docLink = document.createElement('div');\n",
              "          docLink.innerHTML = docLinkHtml;\n",
              "          element.appendChild(docLink);\n",
              "        }\n",
              "      </script>\n",
              "    </div>\n",
              "  </div>\n",
              "  "
            ]
          },
          "metadata": {},
          "execution_count": 324
        }
      ]
    },
    {
      "cell_type": "markdown",
      "metadata": {
        "id": "jjPL8ZlJhtwf"
      },
      "source": [
        "Обучим логистическую регрессию на train и сделаем предсказание на новых для нее данных (test)."
      ]
    },
    {
      "cell_type": "code",
      "execution_count": null,
      "metadata": {
        "colab": {
          "base_uri": "https://localhost:8080/"
        },
        "id": "mmOb1h0Chtwf",
        "outputId": "a1c5a829-8ed9-4315-d5b0-3cac575c5826"
      },
      "outputs": [
        {
          "output_type": "execute_result",
          "data": {
            "text/plain": [
              "LogisticRegression()"
            ]
          },
          "metadata": {},
          "execution_count": 325
        }
      ],
      "source": [
        "# from sklearn.linear_model import LogisticRegression\n",
        "\n",
        "model = LogisticRegression() # объявление модели\n",
        "model.fit(Xtrain, ytrain) # обучение модели"
      ]
    },
    {
      "cell_type": "code",
      "source": [
        "pred_test = model.predict(Xtest) # предсказание классов"
      ],
      "metadata": {
        "id": "zsk3tPv5ia4F"
      },
      "execution_count": null,
      "outputs": []
    },
    {
      "cell_type": "code",
      "source": [
        "accuracy_score(ytest, pred_test)"
      ],
      "metadata": {
        "colab": {
          "base_uri": "https://localhost:8080/"
        },
        "id": "cVaD2VwskQGY",
        "outputId": "55afca03-dcda-4a24-9bc4-bd87b5193103"
      },
      "execution_count": null,
      "outputs": [
        {
          "output_type": "execute_result",
          "data": {
            "text/plain": [
              "0.8157237936772047"
            ]
          },
          "metadata": {},
          "execution_count": 327
        }
      ]
    },
    {
      "cell_type": "code",
      "source": [
        "y.value_counts()"
      ],
      "metadata": {
        "colab": {
          "base_uri": "https://localhost:8080/"
        },
        "id": "NB4xFH1LiiSh",
        "outputId": "747fa1cb-035e-4df1-c7f6-bb6a0df5eae5"
      },
      "execution_count": null,
      "outputs": [
        {
          "output_type": "execute_result",
          "data": {
            "text/plain": [
              "0    7356\n",
              "1    2258\n",
              "Name: income, dtype: int64"
            ]
          },
          "metadata": {},
          "execution_count": 328
        }
      ]
    },
    {
      "cell_type": "markdown",
      "source": [
        "Баланса классов нет: большинство имеют доход менее <=50K (77%)\n",
        "\n",
        "Посмотрим, что предсказывает модель."
      ],
      "metadata": {
        "id": "epmPo_TAPvEe"
      }
    },
    {
      "cell_type": "code",
      "source": [
        "pred_test[:50]"
      ],
      "metadata": {
        "colab": {
          "base_uri": "https://localhost:8080/"
        },
        "id": "P-tUWOp9P99-",
        "outputId": "fee876a4-aef7-4ee8-e2dd-a8e3c343634b"
      },
      "execution_count": null,
      "outputs": [
        {
          "output_type": "execute_result",
          "data": {
            "text/plain": [
              "array([0, 0, 0, 0, 1, 0, 0, 0, 0, 0, 0, 1, 0, 1, 0, 0, 0, 0, 0, 0, 0, 0,\n",
              "       0, 1, 0, 0, 0, 0, 0, 0, 0, 0, 0, 0, 1, 0, 0, 0, 0, 0, 0, 0, 0, 0,\n",
              "       0, 0, 0, 0, 0, 0])"
            ]
          },
          "metadata": {},
          "execution_count": 329
        }
      ]
    },
    {
      "cell_type": "markdown",
      "source": [
        "## <font color='green'>2.2. Валидация модели</font>\n",
        "\n",
        "Для оценки качества модели используются различные метрики качества. Давайте посмотрим, какие метрики полезно считать в задаче классификации, кроме accuracy.\n",
        "\n",
        "Для оценки качества моделей бинарной классификации полезно смотреть на **матрицу ошибок** (confusion matrix):"
      ],
      "metadata": {
        "id": "0WKy0qt2QHw-"
      }
    },
    {
      "cell_type": "code",
      "source": [
        "from sklearn.metrics import confusion_matrix\n",
        "\n",
        "confusion_matrix(ytest, pred_test)"
      ],
      "metadata": {
        "id": "P3XkIHpJQJjv",
        "colab": {
          "base_uri": "https://localhost:8080/"
        },
        "outputId": "e10fc564-50a8-4acb-ccd0-f553099099f0"
      },
      "execution_count": null,
      "outputs": [
        {
          "output_type": "execute_result",
          "data": {
            "text/plain": [
              "array([[1768,   74],\n",
              "       [ 369,  193]])"
            ]
          },
          "metadata": {},
          "execution_count": 330
        }
      ]
    },
    {
      "cell_type": "code",
      "source": [
        "ytest.value_counts()"
      ],
      "metadata": {
        "id": "cKHWNikM50Ys",
        "colab": {
          "base_uri": "https://localhost:8080/"
        },
        "outputId": "5f8579ff-7370-4ca3-ecf5-10df16a22283"
      },
      "execution_count": null,
      "outputs": [
        {
          "output_type": "execute_result",
          "data": {
            "text/plain": [
              "0    1842\n",
              "1     562\n",
              "Name: income, dtype: int64"
            ]
          },
          "metadata": {},
          "execution_count": 331
        }
      ]
    },
    {
      "cell_type": "code",
      "source": [
        "from sklearn.metrics import recall_score\n",
        "\n",
        "recall_score(ytest, pred_test)"
      ],
      "metadata": {
        "id": "rs1crUP3Qvsh",
        "colab": {
          "base_uri": "https://localhost:8080/"
        },
        "outputId": "e023603d-c981-4580-8974-6c42bde74d67"
      },
      "execution_count": null,
      "outputs": [
        {
          "output_type": "execute_result",
          "data": {
            "text/plain": [
              "0.34341637010676157"
            ]
          },
          "metadata": {},
          "execution_count": 332
        }
      ]
    },
    {
      "cell_type": "code",
      "source": [
        "from sklearn.metrics import precision_score\n",
        "\n",
        "precision_score(ytest, pred_test)"
      ],
      "metadata": {
        "id": "K62t82kMGG6I",
        "outputId": "bb8b1adc-78c6-44b9-8410-2a01b296fbce",
        "colab": {
          "base_uri": "https://localhost:8080/"
        }
      },
      "execution_count": null,
      "outputs": [
        {
          "output_type": "execute_result",
          "data": {
            "text/plain": [
              "0.7228464419475655"
            ]
          },
          "metadata": {},
          "execution_count": 333
        }
      ]
    },
    {
      "cell_type": "code",
      "source": [
        "probs = model.predict_proba(Xtest)\n",
        "\n",
        "probs[:10]"
      ],
      "metadata": {
        "id": "5s0Nhc4tW2Od",
        "colab": {
          "base_uri": "https://localhost:8080/"
        },
        "outputId": "da5074b8-b2a0-4725-a7d3-384052f19ef5"
      },
      "execution_count": null,
      "outputs": [
        {
          "output_type": "execute_result",
          "data": {
            "text/plain": [
              "array([[0.80497975, 0.19502025],\n",
              "       [0.89080712, 0.10919288],\n",
              "       [0.68177497, 0.31822503],\n",
              "       [0.92853628, 0.07146372],\n",
              "       [0.47648491, 0.52351509],\n",
              "       [0.61441019, 0.38558981],\n",
              "       [0.89131205, 0.10868795],\n",
              "       [0.61550102, 0.38449898],\n",
              "       [0.77766504, 0.22233496],\n",
              "       [0.72026733, 0.27973267]])"
            ]
          },
          "metadata": {},
          "execution_count": 334
        }
      ]
    },
    {
      "cell_type": "markdown",
      "source": [
        "Модель слишком позитивна. Она присваивает классу 0 (доход <50K USD) всегда большие вероятности.\n",
        "\n",
        "Попробуем изменить порог для перевода вероятности в классы со стандартного 0.5 на порог поменьше."
      ],
      "metadata": {
        "id": "BkYE98_ssF9M"
      }
    },
    {
      "cell_type": "code",
      "source": [
        "probs_income = probs[:,1]\n",
        "\n",
        "classes = probs_income > 0.25"
      ],
      "metadata": {
        "id": "La5VR8f8W2UN"
      },
      "execution_count": null,
      "outputs": []
    },
    {
      "cell_type": "code",
      "source": [
        "confusion_matrix(ytest, classes)"
      ],
      "metadata": {
        "id": "07HXkRAcsIxM",
        "colab": {
          "base_uri": "https://localhost:8080/"
        },
        "outputId": "dcb9ee22-74c3-45af-8133-e7ac2381715a"
      },
      "execution_count": null,
      "outputs": [
        {
          "output_type": "execute_result",
          "data": {
            "text/plain": [
              "array([[1488,  354],\n",
              "       [ 186,  376]])"
            ]
          },
          "metadata": {},
          "execution_count": 336
        }
      ]
    },
    {
      "cell_type": "code",
      "source": [
        "recall_score(ytest, classes)"
      ],
      "metadata": {
        "id": "EM4-BmACsKaS",
        "colab": {
          "base_uri": "https://localhost:8080/"
        },
        "outputId": "22ced5c3-d333-446d-a11a-31f829cecdac"
      },
      "execution_count": null,
      "outputs": [
        {
          "output_type": "execute_result",
          "data": {
            "text/plain": [
              "0.6690391459074733"
            ]
          },
          "metadata": {},
          "execution_count": 337
        }
      ]
    },
    {
      "cell_type": "code",
      "source": [
        "from sklearn.metrics import precision_score\n",
        "\n",
        "precision_score(ytest, classes)"
      ],
      "metadata": {
        "id": "om-ZvjtosMdl",
        "colab": {
          "base_uri": "https://localhost:8080/"
        },
        "outputId": "e5cf4e6f-8161-4288-fdc1-b0451957e3d5"
      },
      "execution_count": null,
      "outputs": [
        {
          "output_type": "execute_result",
          "data": {
            "text/plain": [
              "0.5150684931506849"
            ]
          },
          "metadata": {},
          "execution_count": 338
        }
      ]
    },
    {
      "cell_type": "markdown",
      "source": [
        "При пороге вероятности в 0.25 модель выявит 2/3 (67%) клиентов с доходом свыше 50K USD, но при этом точность составит только порядка 52%."
      ],
      "metadata": {
        "id": "v8XdhOnEsOQc"
      }
    },
    {
      "cell_type": "markdown",
      "source": [
        "# Задание 2: дополнительная обработка категориальных признаков в исходных данных"
      ],
      "metadata": {
        "id": "fTyBVQeusRjk"
      }
    },
    {
      "cell_type": "code",
      "source": [
        "data_full.dropna(inplace = True)\n",
        "data_full['income'] = data['income'].replace('<=50K', 0)\n",
        "data_full['income'] = data['income'].replace('>50K', 1)"
      ],
      "metadata": {
        "id": "1VTW5C7bW2ad"
      },
      "execution_count": null,
      "outputs": []
    },
    {
      "cell_type": "code",
      "source": [
        "data_full.info()"
      ],
      "metadata": {
        "id": "bCVNhHUWZgMX",
        "outputId": "26227fea-cf80-4d78-8ea3-682ffd3dd057",
        "colab": {
          "base_uri": "https://localhost:8080/"
        }
      },
      "execution_count": null,
      "outputs": [
        {
          "output_type": "stream",
          "name": "stdout",
          "text": [
            "<class 'pandas.core.frame.DataFrame'>\n",
            "Int64Index: 9614 entries, 0 to 9613\n",
            "Data columns (total 15 columns):\n",
            " #   Column           Non-Null Count  Dtype  \n",
            "---  ------           --------------  -----  \n",
            " 0   age              9614 non-null   int64  \n",
            " 1   workclass        9614 non-null   object \n",
            " 2   fnlwgt           9614 non-null   int64  \n",
            " 3   education        9614 non-null   object \n",
            " 4   educational-num  9614 non-null   int64  \n",
            " 5   marital-status   9614 non-null   object \n",
            " 6   occupation       9614 non-null   object \n",
            " 7   relationship     9614 non-null   object \n",
            " 8   race             9614 non-null   object \n",
            " 9   gender           9614 non-null   object \n",
            " 10  capital-gain     9614 non-null   float64\n",
            " 11  capital-loss     9614 non-null   float64\n",
            " 12  hours-per-week   9614 non-null   float64\n",
            " 13  native-country   9614 non-null   object \n",
            " 14  income           9614 non-null   int64  \n",
            "dtypes: float64(3), int64(4), object(8)\n",
            "memory usage: 1.2+ MB\n"
          ]
        }
      ]
    },
    {
      "cell_type": "code",
      "source": [
        "data_full.groupby(by = ['education', 'educational-num'])['income'].sum().sort_values(ascending = False)"
      ],
      "metadata": {
        "id": "5czEE2yZXTsq",
        "outputId": "8fbbecc3-0464-4788-b064-b75f844a70ec",
        "colab": {
          "base_uri": "https://localhost:8080/"
        }
      },
      "execution_count": null,
      "outputs": [
        {
          "output_type": "execute_result",
          "data": {
            "text/plain": [
              "education     educational-num\n",
              "Bachelors     13                 632\n",
              "HS-grad       9                  497\n",
              "Some-college  10                 407\n",
              "Masters       14                 292\n",
              "Prof-school   15                 112\n",
              "Assoc-voc     11                  91\n",
              "Assoc-acdm    12                  86\n",
              "Doctorate     16                  74\n",
              "11th          7                   14\n",
              "10th          6                   13\n",
              "7th-8th       4                   12\n",
              "12th          8                    9\n",
              "5th-6th       3                    9\n",
              "9th           5                    8\n",
              "1st-4th       2                    2\n",
              "Preschool     1                    0\n",
              "Name: income, dtype: int64"
            ]
          },
          "metadata": {},
          "execution_count": 341
        }
      ]
    },
    {
      "cell_type": "markdown",
      "source": [
        "so we see that education and educational_num have 1-to-1 relation"
      ],
      "metadata": {
        "id": "hjnUCCJi3HYd"
      }
    },
    {
      "cell_type": "code",
      "source": [
        "#let's make it one column\n",
        "data_full['education_category'] = data_full.apply(lambda row: f\"{row['educational-num']}_{row['education']}\".lower() if row['educational-num'] > 9 else f\"0{row['educational-num']}_{row['education']}\".lower(), axis=1).to_list()"
      ],
      "metadata": {
        "id": "DU8Vm9_kbR3j"
      },
      "execution_count": null,
      "outputs": []
    },
    {
      "cell_type": "code",
      "source": [
        "#checking the result\n",
        "data_full.groupby(by = ['education_category','education', 'educational-num'])['income'].sum()"
      ],
      "metadata": {
        "id": "g4xEoRO8ZdTR",
        "outputId": "b8c0f020-ca12-4345-c066-0e8f25d9016e",
        "colab": {
          "base_uri": "https://localhost:8080/"
        }
      },
      "execution_count": null,
      "outputs": [
        {
          "output_type": "execute_result",
          "data": {
            "text/plain": [
              "education_category  education     educational-num\n",
              "01_preschool        Preschool     1                    0\n",
              "02_1st-4th          1st-4th       2                    2\n",
              "03_5th-6th          5th-6th       3                    9\n",
              "04_7th-8th          7th-8th       4                   12\n",
              "05_9th              9th           5                    8\n",
              "06_10th             10th          6                   13\n",
              "07_11th             11th          7                   14\n",
              "08_12th             12th          8                    9\n",
              "09_hs-grad          HS-grad       9                  497\n",
              "10_some-college     Some-college  10                 407\n",
              "11_assoc-voc        Assoc-voc     11                  91\n",
              "12_assoc-acdm       Assoc-acdm    12                  86\n",
              "13_bachelors        Bachelors     13                 632\n",
              "14_masters          Masters       14                 292\n",
              "15_prof-school      Prof-school   15                 112\n",
              "16_doctorate        Doctorate     16                  74\n",
              "Name: income, dtype: int64"
            ]
          },
          "metadata": {},
          "execution_count": 343
        }
      ]
    },
    {
      "cell_type": "code",
      "source": [
        "#dropping the original exccesive cols\n",
        "data_full.drop(['education', 'educational-num'], inplace = True, axis = 1)"
      ],
      "metadata": {
        "id": "GwN20d1BdWGc"
      },
      "execution_count": null,
      "outputs": []
    },
    {
      "cell_type": "code",
      "source": [
        "data_full.info()"
      ],
      "metadata": {
        "id": "HhW2PbkFd_GA",
        "outputId": "94306df7-5c5f-4a94-ead3-30ac6cb4fe56",
        "colab": {
          "base_uri": "https://localhost:8080/"
        }
      },
      "execution_count": null,
      "outputs": [
        {
          "output_type": "stream",
          "name": "stdout",
          "text": [
            "<class 'pandas.core.frame.DataFrame'>\n",
            "Int64Index: 9614 entries, 0 to 9613\n",
            "Data columns (total 14 columns):\n",
            " #   Column              Non-Null Count  Dtype  \n",
            "---  ------              --------------  -----  \n",
            " 0   age                 9614 non-null   int64  \n",
            " 1   workclass           9614 non-null   object \n",
            " 2   fnlwgt              9614 non-null   int64  \n",
            " 3   marital-status      9614 non-null   object \n",
            " 4   occupation          9614 non-null   object \n",
            " 5   relationship        9614 non-null   object \n",
            " 6   race                9614 non-null   object \n",
            " 7   gender              9614 non-null   object \n",
            " 8   capital-gain        9614 non-null   float64\n",
            " 9   capital-loss        9614 non-null   float64\n",
            " 10  hours-per-week      9614 non-null   float64\n",
            " 11  native-country      9614 non-null   object \n",
            " 12  income              9614 non-null   int64  \n",
            " 13  education_category  9614 non-null   object \n",
            "dtypes: float64(3), int64(3), object(8)\n",
            "memory usage: 1.1+ MB\n"
          ]
        }
      ]
    },
    {
      "cell_type": "code",
      "source": [
        "#we still observe 7 more object types, let's explore which values it takes\n",
        "for col in data_full.select_dtypes(include=['object']).columns:\n",
        "  display(data_full.groupby(by = col).sum()['income'].sort_values(ascending = False))\n",
        "  print(20*'=')"
      ],
      "metadata": {
        "id": "Hqm7DKD5eDgk",
        "outputId": "39713dcb-c2cd-49a6-c5d3-29c21bf8dd1c",
        "colab": {
          "base_uri": "https://localhost:8080/"
        }
      },
      "execution_count": null,
      "outputs": [
        {
          "output_type": "display_data",
          "data": {
            "text/plain": [
              "workclass\n",
              "Private             1429\n",
              "Self-emp-not-inc     197\n",
              "Self-emp-inc         194\n",
              "Local-gov            172\n",
              "State-gov            114\n",
              "Federal-gov          112\n",
              "?                     39\n",
              "Without-pay            1\n",
              "Never-worked           0\n",
              "Name: income, dtype: int64"
            ]
          },
          "metadata": {}
        },
        {
          "output_type": "stream",
          "name": "stdout",
          "text": [
            "====================\n"
          ]
        },
        {
          "output_type": "display_data",
          "data": {
            "text/plain": [
              "marital-status\n",
              "Married-civ-spouse       1929\n",
              "Never-married             149\n",
              "Divorced                  119\n",
              "Widowed                    24\n",
              "Separated                  21\n",
              "Married-spouse-absent      13\n",
              "Married-AF-spouse           3\n",
              "Name: income, dtype: int64"
            ]
          },
          "metadata": {}
        },
        {
          "output_type": "stream",
          "name": "stdout",
          "text": [
            "====================\n"
          ]
        },
        {
          "output_type": "display_data",
          "data": {
            "text/plain": [
              "occupation\n",
              "Exec-managerial      558\n",
              "Prof-specialty       542\n",
              "Sales                280\n",
              "Craft-repair         273\n",
              "Adm-clerical         159\n",
              "Transport-moving      93\n",
              "Tech-support          74\n",
              "Machine-op-inspct     71\n",
              "Protective-serv       57\n",
              "?                     39\n",
              "Farming-fishing       38\n",
              "Handlers-cleaners     35\n",
              "Other-service         35\n",
              "Armed-Forces           2\n",
              "Priv-house-serv        2\n",
              "Name: income, dtype: int64"
            ]
          },
          "metadata": {}
        },
        {
          "output_type": "stream",
          "name": "stdout",
          "text": [
            "====================\n"
          ]
        },
        {
          "output_type": "display_data",
          "data": {
            "text/plain": [
              "relationship\n",
              "Husband           1715\n",
              "Not-in-family      247\n",
              "Wife               205\n",
              "Unmarried           57\n",
              "Own-child           25\n",
              "Other-relative       9\n",
              "Name: income, dtype: int64"
            ]
          },
          "metadata": {}
        },
        {
          "output_type": "stream",
          "name": "stdout",
          "text": [
            "====================\n"
          ]
        },
        {
          "output_type": "display_data",
          "data": {
            "text/plain": [
              "race\n",
              "White                 2055\n",
              "Black                   98\n",
              "Asian-Pac-Islander      76\n",
              "Other                   15\n",
              "Amer-Indian-Eskimo      14\n",
              "Name: income, dtype: int64"
            ]
          },
          "metadata": {}
        },
        {
          "output_type": "stream",
          "name": "stdout",
          "text": [
            "====================\n"
          ]
        },
        {
          "output_type": "display_data",
          "data": {
            "text/plain": [
              "gender\n",
              "Male      1902\n",
              "Female     356\n",
              "Name: income, dtype: int64"
            ]
          },
          "metadata": {}
        },
        {
          "output_type": "stream",
          "name": "stdout",
          "text": [
            "====================\n"
          ]
        },
        {
          "output_type": "display_data",
          "data": {
            "text/plain": [
              "native-country\n",
              "United-States                 2089\n",
              "?                               43\n",
              "Philippines                     15\n",
              "India                           14\n",
              "England                          9\n",
              "Canada                           9\n",
              "Mexico                           8\n",
              "Greece                           5\n",
              "Italy                            5\n",
              "Puerto-Rico                      5\n",
              "China                            5\n",
              "Germany                          4\n",
              "Cuba                             4\n",
              "Japan                            4\n",
              "South                            3\n",
              "Taiwan                           3\n",
              "Portugal                         3\n",
              "Poland                           3\n",
              "Jamaica                          3\n",
              "Thailand                         2\n",
              "Ireland                          2\n",
              "Yugoslavia                       2\n",
              "Hungary                          2\n",
              "Columbia                         2\n",
              "Dominican-Republic               2\n",
              "Ecuador                          2\n",
              "El-Salvador                      2\n",
              "France                           2\n",
              "Haiti                            1\n",
              "Cambodia                         1\n",
              "Honduras                         1\n",
              "Peru                             1\n",
              "Outlying-US(Guam-USVI-etc)       1\n",
              "Nicaragua                        1\n",
              "Iran                             0\n",
              "Scotland                         0\n",
              "Hong                             0\n",
              "Trinadad&Tobago                  0\n",
              "Laos                             0\n",
              "Vietnam                          0\n",
              "Guatemala                        0\n",
              "Name: income, dtype: int64"
            ]
          },
          "metadata": {}
        },
        {
          "output_type": "stream",
          "name": "stdout",
          "text": [
            "====================\n"
          ]
        },
        {
          "output_type": "display_data",
          "data": {
            "text/plain": [
              "education_category\n",
              "13_bachelors       632\n",
              "09_hs-grad         497\n",
              "10_some-college    407\n",
              "14_masters         292\n",
              "15_prof-school     112\n",
              "11_assoc-voc        91\n",
              "12_assoc-acdm       86\n",
              "16_doctorate        74\n",
              "07_11th             14\n",
              "06_10th             13\n",
              "04_7th-8th          12\n",
              "03_5th-6th           9\n",
              "08_12th              9\n",
              "05_9th               8\n",
              "02_1st-4th           2\n",
              "01_preschool         0\n",
              "Name: income, dtype: int64"
            ]
          },
          "metadata": {}
        },
        {
          "output_type": "stream",
          "name": "stdout",
          "text": [
            "====================\n"
          ]
        }
      ]
    },
    {
      "cell_type": "code",
      "source": [
        "#we see unknown values marked as \"?\" in native-country, occupation and workclass\n",
        "#let's explore it a little bit\n",
        "data_full[(data_full['native-country'] == '?') | (data_full['occupation'] == '?') | (data_full['workclass'] == '?')]"
      ],
      "metadata": {
        "id": "NkTxIrPghLAd",
        "outputId": "60f6f150-6def-4eee-af5d-d451b71aaa94",
        "colab": {
          "base_uri": "https://localhost:8080/"
        }
      },
      "execution_count": null,
      "outputs": [
        {
          "output_type": "execute_result",
          "data": {
            "text/plain": [
              "      age workclass  fnlwgt      marital-status      occupation  \\\n",
              "4      18         ?  103497       Never-married               ?   \n",
              "6      29         ?  227026       Never-married               ?   \n",
              "13     58         ?  299831  Married-civ-spouse               ?   \n",
              "19     40   Private   85019  Married-civ-spouse  Prof-specialty   \n",
              "22     72         ?  132015            Divorced               ?   \n",
              "...   ...       ...     ...                 ...             ...   \n",
              "9584   37         ?   33355  Married-civ-spouse               ?   \n",
              "9585   55         ?  177557            Divorced               ?   \n",
              "9602   18         ?   30246       Never-married               ?   \n",
              "9607   20         ?   49819       Never-married               ?   \n",
              "9608   42         ?  338281  Married-civ-spouse               ?   \n",
              "\n",
              "        relationship                race  gender  capital-gain  capital-loss  \\\n",
              "4          Own-child               White  Female           0.0           0.0   \n",
              "6          Unmarried               Black    Male           0.0           0.0   \n",
              "13           Husband               White    Male           0.0           0.0   \n",
              "19           Husband  Asian-Pac-Islander    Male           0.0           0.0   \n",
              "22     Not-in-family               White  Female           0.0           0.0   \n",
              "...              ...                 ...     ...           ...           ...   \n",
              "9584         Husband               White    Male           0.0           0.0   \n",
              "9585  Other-relative               White    Male           0.0           0.0   \n",
              "9602       Own-child               White  Female           0.0           0.0   \n",
              "9607       Own-child               White  Female           0.0           0.0   \n",
              "9608            Wife               White  Female           0.0           0.0   \n",
              "\n",
              "      hours-per-week native-country  income education_category  \n",
              "4               30.0  United-States       0    10_some-college  \n",
              "6               40.0  United-States       0         09_hs-grad  \n",
              "13              35.0  United-States       0         09_hs-grad  \n",
              "19              45.0              ?       1       16_doctorate  \n",
              "22               6.0  United-States       0         04_7th-8th  \n",
              "...              ...            ...     ...                ...  \n",
              "9584            30.0  United-States       0      12_assoc-acdm  \n",
              "9585            40.0  United-States       0         09_hs-grad  \n",
              "9602            45.0  United-States       0            07_11th  \n",
              "9607            40.0  United-States       0    10_some-college  \n",
              "9608            20.0           Iran       0       11_assoc-voc  \n",
              "\n",
              "[737 rows x 14 columns]"
            ],
            "text/html": [
              "\n",
              "  <div id=\"df-6a306ff8-aaec-48a6-ac3c-4bbb69c9aca3\">\n",
              "    <div class=\"colab-df-container\">\n",
              "      <div>\n",
              "<style scoped>\n",
              "    .dataframe tbody tr th:only-of-type {\n",
              "        vertical-align: middle;\n",
              "    }\n",
              "\n",
              "    .dataframe tbody tr th {\n",
              "        vertical-align: top;\n",
              "    }\n",
              "\n",
              "    .dataframe thead th {\n",
              "        text-align: right;\n",
              "    }\n",
              "</style>\n",
              "<table border=\"1\" class=\"dataframe\">\n",
              "  <thead>\n",
              "    <tr style=\"text-align: right;\">\n",
              "      <th></th>\n",
              "      <th>age</th>\n",
              "      <th>workclass</th>\n",
              "      <th>fnlwgt</th>\n",
              "      <th>marital-status</th>\n",
              "      <th>occupation</th>\n",
              "      <th>relationship</th>\n",
              "      <th>race</th>\n",
              "      <th>gender</th>\n",
              "      <th>capital-gain</th>\n",
              "      <th>capital-loss</th>\n",
              "      <th>hours-per-week</th>\n",
              "      <th>native-country</th>\n",
              "      <th>income</th>\n",
              "      <th>education_category</th>\n",
              "    </tr>\n",
              "  </thead>\n",
              "  <tbody>\n",
              "    <tr>\n",
              "      <th>4</th>\n",
              "      <td>18</td>\n",
              "      <td>?</td>\n",
              "      <td>103497</td>\n",
              "      <td>Never-married</td>\n",
              "      <td>?</td>\n",
              "      <td>Own-child</td>\n",
              "      <td>White</td>\n",
              "      <td>Female</td>\n",
              "      <td>0.0</td>\n",
              "      <td>0.0</td>\n",
              "      <td>30.0</td>\n",
              "      <td>United-States</td>\n",
              "      <td>0</td>\n",
              "      <td>10_some-college</td>\n",
              "    </tr>\n",
              "    <tr>\n",
              "      <th>6</th>\n",
              "      <td>29</td>\n",
              "      <td>?</td>\n",
              "      <td>227026</td>\n",
              "      <td>Never-married</td>\n",
              "      <td>?</td>\n",
              "      <td>Unmarried</td>\n",
              "      <td>Black</td>\n",
              "      <td>Male</td>\n",
              "      <td>0.0</td>\n",
              "      <td>0.0</td>\n",
              "      <td>40.0</td>\n",
              "      <td>United-States</td>\n",
              "      <td>0</td>\n",
              "      <td>09_hs-grad</td>\n",
              "    </tr>\n",
              "    <tr>\n",
              "      <th>13</th>\n",
              "      <td>58</td>\n",
              "      <td>?</td>\n",
              "      <td>299831</td>\n",
              "      <td>Married-civ-spouse</td>\n",
              "      <td>?</td>\n",
              "      <td>Husband</td>\n",
              "      <td>White</td>\n",
              "      <td>Male</td>\n",
              "      <td>0.0</td>\n",
              "      <td>0.0</td>\n",
              "      <td>35.0</td>\n",
              "      <td>United-States</td>\n",
              "      <td>0</td>\n",
              "      <td>09_hs-grad</td>\n",
              "    </tr>\n",
              "    <tr>\n",
              "      <th>19</th>\n",
              "      <td>40</td>\n",
              "      <td>Private</td>\n",
              "      <td>85019</td>\n",
              "      <td>Married-civ-spouse</td>\n",
              "      <td>Prof-specialty</td>\n",
              "      <td>Husband</td>\n",
              "      <td>Asian-Pac-Islander</td>\n",
              "      <td>Male</td>\n",
              "      <td>0.0</td>\n",
              "      <td>0.0</td>\n",
              "      <td>45.0</td>\n",
              "      <td>?</td>\n",
              "      <td>1</td>\n",
              "      <td>16_doctorate</td>\n",
              "    </tr>\n",
              "    <tr>\n",
              "      <th>22</th>\n",
              "      <td>72</td>\n",
              "      <td>?</td>\n",
              "      <td>132015</td>\n",
              "      <td>Divorced</td>\n",
              "      <td>?</td>\n",
              "      <td>Not-in-family</td>\n",
              "      <td>White</td>\n",
              "      <td>Female</td>\n",
              "      <td>0.0</td>\n",
              "      <td>0.0</td>\n",
              "      <td>6.0</td>\n",
              "      <td>United-States</td>\n",
              "      <td>0</td>\n",
              "      <td>04_7th-8th</td>\n",
              "    </tr>\n",
              "    <tr>\n",
              "      <th>...</th>\n",
              "      <td>...</td>\n",
              "      <td>...</td>\n",
              "      <td>...</td>\n",
              "      <td>...</td>\n",
              "      <td>...</td>\n",
              "      <td>...</td>\n",
              "      <td>...</td>\n",
              "      <td>...</td>\n",
              "      <td>...</td>\n",
              "      <td>...</td>\n",
              "      <td>...</td>\n",
              "      <td>...</td>\n",
              "      <td>...</td>\n",
              "      <td>...</td>\n",
              "    </tr>\n",
              "    <tr>\n",
              "      <th>9584</th>\n",
              "      <td>37</td>\n",
              "      <td>?</td>\n",
              "      <td>33355</td>\n",
              "      <td>Married-civ-spouse</td>\n",
              "      <td>?</td>\n",
              "      <td>Husband</td>\n",
              "      <td>White</td>\n",
              "      <td>Male</td>\n",
              "      <td>0.0</td>\n",
              "      <td>0.0</td>\n",
              "      <td>30.0</td>\n",
              "      <td>United-States</td>\n",
              "      <td>0</td>\n",
              "      <td>12_assoc-acdm</td>\n",
              "    </tr>\n",
              "    <tr>\n",
              "      <th>9585</th>\n",
              "      <td>55</td>\n",
              "      <td>?</td>\n",
              "      <td>177557</td>\n",
              "      <td>Divorced</td>\n",
              "      <td>?</td>\n",
              "      <td>Other-relative</td>\n",
              "      <td>White</td>\n",
              "      <td>Male</td>\n",
              "      <td>0.0</td>\n",
              "      <td>0.0</td>\n",
              "      <td>40.0</td>\n",
              "      <td>United-States</td>\n",
              "      <td>0</td>\n",
              "      <td>09_hs-grad</td>\n",
              "    </tr>\n",
              "    <tr>\n",
              "      <th>9602</th>\n",
              "      <td>18</td>\n",
              "      <td>?</td>\n",
              "      <td>30246</td>\n",
              "      <td>Never-married</td>\n",
              "      <td>?</td>\n",
              "      <td>Own-child</td>\n",
              "      <td>White</td>\n",
              "      <td>Female</td>\n",
              "      <td>0.0</td>\n",
              "      <td>0.0</td>\n",
              "      <td>45.0</td>\n",
              "      <td>United-States</td>\n",
              "      <td>0</td>\n",
              "      <td>07_11th</td>\n",
              "    </tr>\n",
              "    <tr>\n",
              "      <th>9607</th>\n",
              "      <td>20</td>\n",
              "      <td>?</td>\n",
              "      <td>49819</td>\n",
              "      <td>Never-married</td>\n",
              "      <td>?</td>\n",
              "      <td>Own-child</td>\n",
              "      <td>White</td>\n",
              "      <td>Female</td>\n",
              "      <td>0.0</td>\n",
              "      <td>0.0</td>\n",
              "      <td>40.0</td>\n",
              "      <td>United-States</td>\n",
              "      <td>0</td>\n",
              "      <td>10_some-college</td>\n",
              "    </tr>\n",
              "    <tr>\n",
              "      <th>9608</th>\n",
              "      <td>42</td>\n",
              "      <td>?</td>\n",
              "      <td>338281</td>\n",
              "      <td>Married-civ-spouse</td>\n",
              "      <td>?</td>\n",
              "      <td>Wife</td>\n",
              "      <td>White</td>\n",
              "      <td>Female</td>\n",
              "      <td>0.0</td>\n",
              "      <td>0.0</td>\n",
              "      <td>20.0</td>\n",
              "      <td>Iran</td>\n",
              "      <td>0</td>\n",
              "      <td>11_assoc-voc</td>\n",
              "    </tr>\n",
              "  </tbody>\n",
              "</table>\n",
              "<p>737 rows × 14 columns</p>\n",
              "</div>\n",
              "      <button class=\"colab-df-convert\" onclick=\"convertToInteractive('df-6a306ff8-aaec-48a6-ac3c-4bbb69c9aca3')\"\n",
              "              title=\"Convert this dataframe to an interactive table.\"\n",
              "              style=\"display:none;\">\n",
              "        \n",
              "  <svg xmlns=\"http://www.w3.org/2000/svg\" height=\"24px\"viewBox=\"0 0 24 24\"\n",
              "       width=\"24px\">\n",
              "    <path d=\"M0 0h24v24H0V0z\" fill=\"none\"/>\n",
              "    <path d=\"M18.56 5.44l.94 2.06.94-2.06 2.06-.94-2.06-.94-.94-2.06-.94 2.06-2.06.94zm-11 1L8.5 8.5l.94-2.06 2.06-.94-2.06-.94L8.5 2.5l-.94 2.06-2.06.94zm10 10l.94 2.06.94-2.06 2.06-.94-2.06-.94-.94-2.06-.94 2.06-2.06.94z\"/><path d=\"M17.41 7.96l-1.37-1.37c-.4-.4-.92-.59-1.43-.59-.52 0-1.04.2-1.43.59L10.3 9.45l-7.72 7.72c-.78.78-.78 2.05 0 2.83L4 21.41c.39.39.9.59 1.41.59.51 0 1.02-.2 1.41-.59l7.78-7.78 2.81-2.81c.8-.78.8-2.07 0-2.86zM5.41 20L4 18.59l7.72-7.72 1.47 1.35L5.41 20z\"/>\n",
              "  </svg>\n",
              "      </button>\n",
              "      \n",
              "  <style>\n",
              "    .colab-df-container {\n",
              "      display:flex;\n",
              "      flex-wrap:wrap;\n",
              "      gap: 12px;\n",
              "    }\n",
              "\n",
              "    .colab-df-convert {\n",
              "      background-color: #E8F0FE;\n",
              "      border: none;\n",
              "      border-radius: 50%;\n",
              "      cursor: pointer;\n",
              "      display: none;\n",
              "      fill: #1967D2;\n",
              "      height: 32px;\n",
              "      padding: 0 0 0 0;\n",
              "      width: 32px;\n",
              "    }\n",
              "\n",
              "    .colab-df-convert:hover {\n",
              "      background-color: #E2EBFA;\n",
              "      box-shadow: 0px 1px 2px rgba(60, 64, 67, 0.3), 0px 1px 3px 1px rgba(60, 64, 67, 0.15);\n",
              "      fill: #174EA6;\n",
              "    }\n",
              "\n",
              "    [theme=dark] .colab-df-convert {\n",
              "      background-color: #3B4455;\n",
              "      fill: #D2E3FC;\n",
              "    }\n",
              "\n",
              "    [theme=dark] .colab-df-convert:hover {\n",
              "      background-color: #434B5C;\n",
              "      box-shadow: 0px 1px 3px 1px rgba(0, 0, 0, 0.15);\n",
              "      filter: drop-shadow(0px 1px 2px rgba(0, 0, 0, 0.3));\n",
              "      fill: #FFFFFF;\n",
              "    }\n",
              "  </style>\n",
              "\n",
              "      <script>\n",
              "        const buttonEl =\n",
              "          document.querySelector('#df-6a306ff8-aaec-48a6-ac3c-4bbb69c9aca3 button.colab-df-convert');\n",
              "        buttonEl.style.display =\n",
              "          google.colab.kernel.accessAllowed ? 'block' : 'none';\n",
              "\n",
              "        async function convertToInteractive(key) {\n",
              "          const element = document.querySelector('#df-6a306ff8-aaec-48a6-ac3c-4bbb69c9aca3');\n",
              "          const dataTable =\n",
              "            await google.colab.kernel.invokeFunction('convertToInteractive',\n",
              "                                                     [key], {});\n",
              "          if (!dataTable) return;\n",
              "\n",
              "          const docLinkHtml = 'Like what you see? Visit the ' +\n",
              "            '<a target=\"_blank\" href=https://colab.research.google.com/notebooks/data_table.ipynb>data table notebook</a>'\n",
              "            + ' to learn more about interactive tables.';\n",
              "          element.innerHTML = '';\n",
              "          dataTable['output_type'] = 'display_data';\n",
              "          await google.colab.output.renderOutput(dataTable, element);\n",
              "          const docLink = document.createElement('div');\n",
              "          docLink.innerHTML = docLinkHtml;\n",
              "          element.appendChild(docLink);\n",
              "        }\n",
              "      </script>\n",
              "    </div>\n",
              "  </div>\n",
              "  "
            ]
          },
          "metadata": {},
          "execution_count": 347
        }
      ]
    },
    {
      "cell_type": "code",
      "source": [
        "data_full[(data_full['occupation'] == '?') | (data_full['workclass'] == '?')].groupby(by = ['occupation', 'workclass'])['income'].value_counts()"
      ],
      "metadata": {
        "id": "41bGv5w3jiw5",
        "outputId": "79cfad7f-f2a4-4599-ddd3-0ddf32dd18f8",
        "colab": {
          "base_uri": "https://localhost:8080/"
        }
      },
      "execution_count": null,
      "outputs": [
        {
          "output_type": "execute_result",
          "data": {
            "text/plain": [
              "occupation  workclass     income\n",
              "?           ?             0         545\n",
              "                          1          39\n",
              "            Never-worked  0           1\n",
              "Name: income, dtype: int64"
            ]
          },
          "metadata": {},
          "execution_count": 348
        }
      ]
    },
    {
      "cell_type": "code",
      "source": [
        "#let's drop it at this stage\n",
        "todrop = (data_full['native-country'] == '?') | (data_full['occupation'] == '?') | (data_full['workclass'] == '?')\n",
        "data_f=data_full[~todrop]"
      ],
      "metadata": {
        "id": "R7TvFk1SdlS-"
      },
      "execution_count": null,
      "outputs": []
    },
    {
      "cell_type": "code",
      "source": [
        "data_f.groupby(by = ['fnlwgt']).count()['income'].value_counts()"
      ],
      "metadata": {
        "id": "2HQndP4NlnR2",
        "outputId": "e8fb986e-3b5b-4c00-b2d0-21d6fe2b949c",
        "colab": {
          "base_uri": "https://localhost:8080/"
        }
      },
      "execution_count": null,
      "outputs": [
        {
          "output_type": "execute_result",
          "data": {
            "text/plain": [
              "1    6626\n",
              "2     830\n",
              "3     124\n",
              "4      38\n",
              "5       7\n",
              "6       3\n",
              "7       2\n",
              "Name: income, dtype: int64"
            ]
          },
          "metadata": {},
          "execution_count": 350
        }
      ]
    },
    {
      "cell_type": "code",
      "source": [
        "#also fnlwgt column appears to be kind of index column (not actuually an integer)\n",
        "#it contains recuring numbers, but its more than 6626 (out of ca. 8000) are unique, it doesn't seem that it may contain any pattern, any correlation (which  is low actually, see above), would be spurious\n",
        "# => should be dropped"
      ],
      "metadata": {
        "id": "oQZMRO9Boulo"
      },
      "execution_count": null,
      "outputs": []
    },
    {
      "cell_type": "code",
      "source": [
        "data_f.drop('fnlwgt', inplace = True, axis = 1)"
      ],
      "metadata": {
        "id": "13A77a5epN-b"
      },
      "execution_count": null,
      "outputs": []
    },
    {
      "cell_type": "code",
      "source": [
        "data_f.head(20)"
      ],
      "metadata": {
        "colab": {
          "base_uri": "https://localhost:8080/"
        },
        "id": "oyOY22H8uppE",
        "outputId": "603de863-8ab1-4651-ff6f-97ccdbc184e0"
      },
      "execution_count": null,
      "outputs": [
        {
          "output_type": "execute_result",
          "data": {
            "text/plain": [
              "    age         workclass      marital-status         occupation  \\\n",
              "0    25           Private       Never-married  Machine-op-inspct   \n",
              "1    38           Private  Married-civ-spouse    Farming-fishing   \n",
              "2    28         Local-gov  Married-civ-spouse    Protective-serv   \n",
              "3    44           Private  Married-civ-spouse  Machine-op-inspct   \n",
              "5    34           Private       Never-married      Other-service   \n",
              "7    63  Self-emp-not-inc  Married-civ-spouse     Prof-specialty   \n",
              "8    24           Private       Never-married      Other-service   \n",
              "9    55           Private  Married-civ-spouse       Craft-repair   \n",
              "10   65           Private  Married-civ-spouse  Machine-op-inspct   \n",
              "11   36       Federal-gov  Married-civ-spouse       Adm-clerical   \n",
              "12   26           Private       Never-married       Adm-clerical   \n",
              "14   48           Private  Married-civ-spouse  Machine-op-inspct   \n",
              "15   43           Private  Married-civ-spouse    Exec-managerial   \n",
              "16   20         State-gov       Never-married      Other-service   \n",
              "17   43           Private  Married-civ-spouse       Adm-clerical   \n",
              "18   37           Private             Widowed  Machine-op-inspct   \n",
              "20   34           Private  Married-civ-spouse       Tech-support   \n",
              "21   34           Private       Never-married      Other-service   \n",
              "23   25           Private       Never-married     Prof-specialty   \n",
              "24   25           Private  Married-civ-spouse     Prof-specialty   \n",
              "\n",
              "     relationship   race  gender  capital-gain  capital-loss  hours-per-week  \\\n",
              "0       Own-child  Black    Male           0.0           0.0            40.0   \n",
              "1         Husband  White    Male           0.0           0.0            50.0   \n",
              "2         Husband  White    Male           0.0           0.0            40.0   \n",
              "3         Husband  Black    Male        7688.0           0.0            40.0   \n",
              "5   Not-in-family  White    Male           0.0           0.0            30.0   \n",
              "7         Husband  White    Male        3103.0           0.0            32.0   \n",
              "8       Unmarried  White  Female           0.0           0.0            40.0   \n",
              "9         Husband  White    Male           0.0           0.0            10.0   \n",
              "10        Husband  White    Male        6418.0           0.0            40.0   \n",
              "11        Husband  White    Male           0.0           0.0            40.0   \n",
              "12  Not-in-family  White  Female           0.0           0.0            39.0   \n",
              "14        Husband  White    Male        3103.0           0.0            48.0   \n",
              "15        Husband  White    Male           0.0           0.0            50.0   \n",
              "16      Own-child  White    Male           0.0           0.0            25.0   \n",
              "17           Wife  White  Female           0.0           0.0            30.0   \n",
              "18      Unmarried  White  Female           0.0           0.0            20.0   \n",
              "20        Husband  White    Male           0.0           0.0            47.0   \n",
              "21      Own-child  Black  Female           0.0           0.0            35.0   \n",
              "23  Not-in-family  White    Male           0.0           0.0            43.0   \n",
              "24        Husband  White    Male           0.0           0.0            40.0   \n",
              "\n",
              "   native-country  income education_category  \n",
              "0   United-States       0            07_11th  \n",
              "1   United-States       0         09_hs-grad  \n",
              "2   United-States       1      12_assoc-acdm  \n",
              "3   United-States       1    10_some-college  \n",
              "5   United-States       0            06_10th  \n",
              "7   United-States       1     15_prof-school  \n",
              "8   United-States       0    10_some-college  \n",
              "9   United-States       0         04_7th-8th  \n",
              "10  United-States       1         09_hs-grad  \n",
              "11  United-States       0       13_bachelors  \n",
              "12  United-States       0         09_hs-grad  \n",
              "14  United-States       1         09_hs-grad  \n",
              "15  United-States       1         14_masters  \n",
              "16  United-States       0    10_some-college  \n",
              "17  United-States       0         09_hs-grad  \n",
              "18  United-States       0         09_hs-grad  \n",
              "20  United-States       1       13_bachelors  \n",
              "21  United-States       0    10_some-college  \n",
              "23           Peru       0       13_bachelors  \n",
              "24  United-States       0       13_bachelors  "
            ],
            "text/html": [
              "\n",
              "  <div id=\"df-3c8bed22-ea91-46a4-ba2e-9ba4b7c91577\">\n",
              "    <div class=\"colab-df-container\">\n",
              "      <div>\n",
              "<style scoped>\n",
              "    .dataframe tbody tr th:only-of-type {\n",
              "        vertical-align: middle;\n",
              "    }\n",
              "\n",
              "    .dataframe tbody tr th {\n",
              "        vertical-align: top;\n",
              "    }\n",
              "\n",
              "    .dataframe thead th {\n",
              "        text-align: right;\n",
              "    }\n",
              "</style>\n",
              "<table border=\"1\" class=\"dataframe\">\n",
              "  <thead>\n",
              "    <tr style=\"text-align: right;\">\n",
              "      <th></th>\n",
              "      <th>age</th>\n",
              "      <th>workclass</th>\n",
              "      <th>marital-status</th>\n",
              "      <th>occupation</th>\n",
              "      <th>relationship</th>\n",
              "      <th>race</th>\n",
              "      <th>gender</th>\n",
              "      <th>capital-gain</th>\n",
              "      <th>capital-loss</th>\n",
              "      <th>hours-per-week</th>\n",
              "      <th>native-country</th>\n",
              "      <th>income</th>\n",
              "      <th>education_category</th>\n",
              "    </tr>\n",
              "  </thead>\n",
              "  <tbody>\n",
              "    <tr>\n",
              "      <th>0</th>\n",
              "      <td>25</td>\n",
              "      <td>Private</td>\n",
              "      <td>Never-married</td>\n",
              "      <td>Machine-op-inspct</td>\n",
              "      <td>Own-child</td>\n",
              "      <td>Black</td>\n",
              "      <td>Male</td>\n",
              "      <td>0.0</td>\n",
              "      <td>0.0</td>\n",
              "      <td>40.0</td>\n",
              "      <td>United-States</td>\n",
              "      <td>0</td>\n",
              "      <td>07_11th</td>\n",
              "    </tr>\n",
              "    <tr>\n",
              "      <th>1</th>\n",
              "      <td>38</td>\n",
              "      <td>Private</td>\n",
              "      <td>Married-civ-spouse</td>\n",
              "      <td>Farming-fishing</td>\n",
              "      <td>Husband</td>\n",
              "      <td>White</td>\n",
              "      <td>Male</td>\n",
              "      <td>0.0</td>\n",
              "      <td>0.0</td>\n",
              "      <td>50.0</td>\n",
              "      <td>United-States</td>\n",
              "      <td>0</td>\n",
              "      <td>09_hs-grad</td>\n",
              "    </tr>\n",
              "    <tr>\n",
              "      <th>2</th>\n",
              "      <td>28</td>\n",
              "      <td>Local-gov</td>\n",
              "      <td>Married-civ-spouse</td>\n",
              "      <td>Protective-serv</td>\n",
              "      <td>Husband</td>\n",
              "      <td>White</td>\n",
              "      <td>Male</td>\n",
              "      <td>0.0</td>\n",
              "      <td>0.0</td>\n",
              "      <td>40.0</td>\n",
              "      <td>United-States</td>\n",
              "      <td>1</td>\n",
              "      <td>12_assoc-acdm</td>\n",
              "    </tr>\n",
              "    <tr>\n",
              "      <th>3</th>\n",
              "      <td>44</td>\n",
              "      <td>Private</td>\n",
              "      <td>Married-civ-spouse</td>\n",
              "      <td>Machine-op-inspct</td>\n",
              "      <td>Husband</td>\n",
              "      <td>Black</td>\n",
              "      <td>Male</td>\n",
              "      <td>7688.0</td>\n",
              "      <td>0.0</td>\n",
              "      <td>40.0</td>\n",
              "      <td>United-States</td>\n",
              "      <td>1</td>\n",
              "      <td>10_some-college</td>\n",
              "    </tr>\n",
              "    <tr>\n",
              "      <th>5</th>\n",
              "      <td>34</td>\n",
              "      <td>Private</td>\n",
              "      <td>Never-married</td>\n",
              "      <td>Other-service</td>\n",
              "      <td>Not-in-family</td>\n",
              "      <td>White</td>\n",
              "      <td>Male</td>\n",
              "      <td>0.0</td>\n",
              "      <td>0.0</td>\n",
              "      <td>30.0</td>\n",
              "      <td>United-States</td>\n",
              "      <td>0</td>\n",
              "      <td>06_10th</td>\n",
              "    </tr>\n",
              "    <tr>\n",
              "      <th>7</th>\n",
              "      <td>63</td>\n",
              "      <td>Self-emp-not-inc</td>\n",
              "      <td>Married-civ-spouse</td>\n",
              "      <td>Prof-specialty</td>\n",
              "      <td>Husband</td>\n",
              "      <td>White</td>\n",
              "      <td>Male</td>\n",
              "      <td>3103.0</td>\n",
              "      <td>0.0</td>\n",
              "      <td>32.0</td>\n",
              "      <td>United-States</td>\n",
              "      <td>1</td>\n",
              "      <td>15_prof-school</td>\n",
              "    </tr>\n",
              "    <tr>\n",
              "      <th>8</th>\n",
              "      <td>24</td>\n",
              "      <td>Private</td>\n",
              "      <td>Never-married</td>\n",
              "      <td>Other-service</td>\n",
              "      <td>Unmarried</td>\n",
              "      <td>White</td>\n",
              "      <td>Female</td>\n",
              "      <td>0.0</td>\n",
              "      <td>0.0</td>\n",
              "      <td>40.0</td>\n",
              "      <td>United-States</td>\n",
              "      <td>0</td>\n",
              "      <td>10_some-college</td>\n",
              "    </tr>\n",
              "    <tr>\n",
              "      <th>9</th>\n",
              "      <td>55</td>\n",
              "      <td>Private</td>\n",
              "      <td>Married-civ-spouse</td>\n",
              "      <td>Craft-repair</td>\n",
              "      <td>Husband</td>\n",
              "      <td>White</td>\n",
              "      <td>Male</td>\n",
              "      <td>0.0</td>\n",
              "      <td>0.0</td>\n",
              "      <td>10.0</td>\n",
              "      <td>United-States</td>\n",
              "      <td>0</td>\n",
              "      <td>04_7th-8th</td>\n",
              "    </tr>\n",
              "    <tr>\n",
              "      <th>10</th>\n",
              "      <td>65</td>\n",
              "      <td>Private</td>\n",
              "      <td>Married-civ-spouse</td>\n",
              "      <td>Machine-op-inspct</td>\n",
              "      <td>Husband</td>\n",
              "      <td>White</td>\n",
              "      <td>Male</td>\n",
              "      <td>6418.0</td>\n",
              "      <td>0.0</td>\n",
              "      <td>40.0</td>\n",
              "      <td>United-States</td>\n",
              "      <td>1</td>\n",
              "      <td>09_hs-grad</td>\n",
              "    </tr>\n",
              "    <tr>\n",
              "      <th>11</th>\n",
              "      <td>36</td>\n",
              "      <td>Federal-gov</td>\n",
              "      <td>Married-civ-spouse</td>\n",
              "      <td>Adm-clerical</td>\n",
              "      <td>Husband</td>\n",
              "      <td>White</td>\n",
              "      <td>Male</td>\n",
              "      <td>0.0</td>\n",
              "      <td>0.0</td>\n",
              "      <td>40.0</td>\n",
              "      <td>United-States</td>\n",
              "      <td>0</td>\n",
              "      <td>13_bachelors</td>\n",
              "    </tr>\n",
              "    <tr>\n",
              "      <th>12</th>\n",
              "      <td>26</td>\n",
              "      <td>Private</td>\n",
              "      <td>Never-married</td>\n",
              "      <td>Adm-clerical</td>\n",
              "      <td>Not-in-family</td>\n",
              "      <td>White</td>\n",
              "      <td>Female</td>\n",
              "      <td>0.0</td>\n",
              "      <td>0.0</td>\n",
              "      <td>39.0</td>\n",
              "      <td>United-States</td>\n",
              "      <td>0</td>\n",
              "      <td>09_hs-grad</td>\n",
              "    </tr>\n",
              "    <tr>\n",
              "      <th>14</th>\n",
              "      <td>48</td>\n",
              "      <td>Private</td>\n",
              "      <td>Married-civ-spouse</td>\n",
              "      <td>Machine-op-inspct</td>\n",
              "      <td>Husband</td>\n",
              "      <td>White</td>\n",
              "      <td>Male</td>\n",
              "      <td>3103.0</td>\n",
              "      <td>0.0</td>\n",
              "      <td>48.0</td>\n",
              "      <td>United-States</td>\n",
              "      <td>1</td>\n",
              "      <td>09_hs-grad</td>\n",
              "    </tr>\n",
              "    <tr>\n",
              "      <th>15</th>\n",
              "      <td>43</td>\n",
              "      <td>Private</td>\n",
              "      <td>Married-civ-spouse</td>\n",
              "      <td>Exec-managerial</td>\n",
              "      <td>Husband</td>\n",
              "      <td>White</td>\n",
              "      <td>Male</td>\n",
              "      <td>0.0</td>\n",
              "      <td>0.0</td>\n",
              "      <td>50.0</td>\n",
              "      <td>United-States</td>\n",
              "      <td>1</td>\n",
              "      <td>14_masters</td>\n",
              "    </tr>\n",
              "    <tr>\n",
              "      <th>16</th>\n",
              "      <td>20</td>\n",
              "      <td>State-gov</td>\n",
              "      <td>Never-married</td>\n",
              "      <td>Other-service</td>\n",
              "      <td>Own-child</td>\n",
              "      <td>White</td>\n",
              "      <td>Male</td>\n",
              "      <td>0.0</td>\n",
              "      <td>0.0</td>\n",
              "      <td>25.0</td>\n",
              "      <td>United-States</td>\n",
              "      <td>0</td>\n",
              "      <td>10_some-college</td>\n",
              "    </tr>\n",
              "    <tr>\n",
              "      <th>17</th>\n",
              "      <td>43</td>\n",
              "      <td>Private</td>\n",
              "      <td>Married-civ-spouse</td>\n",
              "      <td>Adm-clerical</td>\n",
              "      <td>Wife</td>\n",
              "      <td>White</td>\n",
              "      <td>Female</td>\n",
              "      <td>0.0</td>\n",
              "      <td>0.0</td>\n",
              "      <td>30.0</td>\n",
              "      <td>United-States</td>\n",
              "      <td>0</td>\n",
              "      <td>09_hs-grad</td>\n",
              "    </tr>\n",
              "    <tr>\n",
              "      <th>18</th>\n",
              "      <td>37</td>\n",
              "      <td>Private</td>\n",
              "      <td>Widowed</td>\n",
              "      <td>Machine-op-inspct</td>\n",
              "      <td>Unmarried</td>\n",
              "      <td>White</td>\n",
              "      <td>Female</td>\n",
              "      <td>0.0</td>\n",
              "      <td>0.0</td>\n",
              "      <td>20.0</td>\n",
              "      <td>United-States</td>\n",
              "      <td>0</td>\n",
              "      <td>09_hs-grad</td>\n",
              "    </tr>\n",
              "    <tr>\n",
              "      <th>20</th>\n",
              "      <td>34</td>\n",
              "      <td>Private</td>\n",
              "      <td>Married-civ-spouse</td>\n",
              "      <td>Tech-support</td>\n",
              "      <td>Husband</td>\n",
              "      <td>White</td>\n",
              "      <td>Male</td>\n",
              "      <td>0.0</td>\n",
              "      <td>0.0</td>\n",
              "      <td>47.0</td>\n",
              "      <td>United-States</td>\n",
              "      <td>1</td>\n",
              "      <td>13_bachelors</td>\n",
              "    </tr>\n",
              "    <tr>\n",
              "      <th>21</th>\n",
              "      <td>34</td>\n",
              "      <td>Private</td>\n",
              "      <td>Never-married</td>\n",
              "      <td>Other-service</td>\n",
              "      <td>Own-child</td>\n",
              "      <td>Black</td>\n",
              "      <td>Female</td>\n",
              "      <td>0.0</td>\n",
              "      <td>0.0</td>\n",
              "      <td>35.0</td>\n",
              "      <td>United-States</td>\n",
              "      <td>0</td>\n",
              "      <td>10_some-college</td>\n",
              "    </tr>\n",
              "    <tr>\n",
              "      <th>23</th>\n",
              "      <td>25</td>\n",
              "      <td>Private</td>\n",
              "      <td>Never-married</td>\n",
              "      <td>Prof-specialty</td>\n",
              "      <td>Not-in-family</td>\n",
              "      <td>White</td>\n",
              "      <td>Male</td>\n",
              "      <td>0.0</td>\n",
              "      <td>0.0</td>\n",
              "      <td>43.0</td>\n",
              "      <td>Peru</td>\n",
              "      <td>0</td>\n",
              "      <td>13_bachelors</td>\n",
              "    </tr>\n",
              "    <tr>\n",
              "      <th>24</th>\n",
              "      <td>25</td>\n",
              "      <td>Private</td>\n",
              "      <td>Married-civ-spouse</td>\n",
              "      <td>Prof-specialty</td>\n",
              "      <td>Husband</td>\n",
              "      <td>White</td>\n",
              "      <td>Male</td>\n",
              "      <td>0.0</td>\n",
              "      <td>0.0</td>\n",
              "      <td>40.0</td>\n",
              "      <td>United-States</td>\n",
              "      <td>0</td>\n",
              "      <td>13_bachelors</td>\n",
              "    </tr>\n",
              "  </tbody>\n",
              "</table>\n",
              "</div>\n",
              "      <button class=\"colab-df-convert\" onclick=\"convertToInteractive('df-3c8bed22-ea91-46a4-ba2e-9ba4b7c91577')\"\n",
              "              title=\"Convert this dataframe to an interactive table.\"\n",
              "              style=\"display:none;\">\n",
              "        \n",
              "  <svg xmlns=\"http://www.w3.org/2000/svg\" height=\"24px\"viewBox=\"0 0 24 24\"\n",
              "       width=\"24px\">\n",
              "    <path d=\"M0 0h24v24H0V0z\" fill=\"none\"/>\n",
              "    <path d=\"M18.56 5.44l.94 2.06.94-2.06 2.06-.94-2.06-.94-.94-2.06-.94 2.06-2.06.94zm-11 1L8.5 8.5l.94-2.06 2.06-.94-2.06-.94L8.5 2.5l-.94 2.06-2.06.94zm10 10l.94 2.06.94-2.06 2.06-.94-2.06-.94-.94-2.06-.94 2.06-2.06.94z\"/><path d=\"M17.41 7.96l-1.37-1.37c-.4-.4-.92-.59-1.43-.59-.52 0-1.04.2-1.43.59L10.3 9.45l-7.72 7.72c-.78.78-.78 2.05 0 2.83L4 21.41c.39.39.9.59 1.41.59.51 0 1.02-.2 1.41-.59l7.78-7.78 2.81-2.81c.8-.78.8-2.07 0-2.86zM5.41 20L4 18.59l7.72-7.72 1.47 1.35L5.41 20z\"/>\n",
              "  </svg>\n",
              "      </button>\n",
              "      \n",
              "  <style>\n",
              "    .colab-df-container {\n",
              "      display:flex;\n",
              "      flex-wrap:wrap;\n",
              "      gap: 12px;\n",
              "    }\n",
              "\n",
              "    .colab-df-convert {\n",
              "      background-color: #E8F0FE;\n",
              "      border: none;\n",
              "      border-radius: 50%;\n",
              "      cursor: pointer;\n",
              "      display: none;\n",
              "      fill: #1967D2;\n",
              "      height: 32px;\n",
              "      padding: 0 0 0 0;\n",
              "      width: 32px;\n",
              "    }\n",
              "\n",
              "    .colab-df-convert:hover {\n",
              "      background-color: #E2EBFA;\n",
              "      box-shadow: 0px 1px 2px rgba(60, 64, 67, 0.3), 0px 1px 3px 1px rgba(60, 64, 67, 0.15);\n",
              "      fill: #174EA6;\n",
              "    }\n",
              "\n",
              "    [theme=dark] .colab-df-convert {\n",
              "      background-color: #3B4455;\n",
              "      fill: #D2E3FC;\n",
              "    }\n",
              "\n",
              "    [theme=dark] .colab-df-convert:hover {\n",
              "      background-color: #434B5C;\n",
              "      box-shadow: 0px 1px 3px 1px rgba(0, 0, 0, 0.15);\n",
              "      filter: drop-shadow(0px 1px 2px rgba(0, 0, 0, 0.3));\n",
              "      fill: #FFFFFF;\n",
              "    }\n",
              "  </style>\n",
              "\n",
              "      <script>\n",
              "        const buttonEl =\n",
              "          document.querySelector('#df-3c8bed22-ea91-46a4-ba2e-9ba4b7c91577 button.colab-df-convert');\n",
              "        buttonEl.style.display =\n",
              "          google.colab.kernel.accessAllowed ? 'block' : 'none';\n",
              "\n",
              "        async function convertToInteractive(key) {\n",
              "          const element = document.querySelector('#df-3c8bed22-ea91-46a4-ba2e-9ba4b7c91577');\n",
              "          const dataTable =\n",
              "            await google.colab.kernel.invokeFunction('convertToInteractive',\n",
              "                                                     [key], {});\n",
              "          if (!dataTable) return;\n",
              "\n",
              "          const docLinkHtml = 'Like what you see? Visit the ' +\n",
              "            '<a target=\"_blank\" href=https://colab.research.google.com/notebooks/data_table.ipynb>data table notebook</a>'\n",
              "            + ' to learn more about interactive tables.';\n",
              "          element.innerHTML = '';\n",
              "          dataTable['output_type'] = 'display_data';\n",
              "          await google.colab.output.renderOutput(dataTable, element);\n",
              "          const docLink = document.createElement('div');\n",
              "          docLink.innerHTML = docLinkHtml;\n",
              "          element.appendChild(docLink);\n",
              "        }\n",
              "      </script>\n",
              "    </div>\n",
              "  </div>\n",
              "  "
            ]
          },
          "metadata": {},
          "execution_count": 353
        }
      ]
    },
    {
      "cell_type": "code",
      "source": [
        "data_f.info()"
      ],
      "metadata": {
        "colab": {
          "base_uri": "https://localhost:8080/"
        },
        "id": "WpQK2948uzrU",
        "outputId": "cba6dbd0-bec2-4dbd-ee77-8d64d9ad60d7"
      },
      "execution_count": null,
      "outputs": [
        {
          "output_type": "stream",
          "name": "stdout",
          "text": [
            "<class 'pandas.core.frame.DataFrame'>\n",
            "Int64Index: 8877 entries, 0 to 9613\n",
            "Data columns (total 13 columns):\n",
            " #   Column              Non-Null Count  Dtype  \n",
            "---  ------              --------------  -----  \n",
            " 0   age                 8877 non-null   int64  \n",
            " 1   workclass           8877 non-null   object \n",
            " 2   marital-status      8877 non-null   object \n",
            " 3   occupation          8877 non-null   object \n",
            " 4   relationship        8877 non-null   object \n",
            " 5   race                8877 non-null   object \n",
            " 6   gender              8877 non-null   object \n",
            " 7   capital-gain        8877 non-null   float64\n",
            " 8   capital-loss        8877 non-null   float64\n",
            " 9   hours-per-week      8877 non-null   float64\n",
            " 10  native-country      8877 non-null   object \n",
            " 11  income              8877 non-null   int64  \n",
            " 12  education_category  8877 non-null   object \n",
            "dtypes: float64(3), int64(2), object(8)\n",
            "memory usage: 970.9+ KB\n"
          ]
        }
      ]
    },
    {
      "cell_type": "markdown",
      "source": [
        "Далее при работе с категориальными признаками будем работать с таблицей data_f"
      ],
      "metadata": {
        "id": "8Uq5U-VaA-6-"
      }
    },
    {
      "cell_type": "markdown",
      "source": [
        "# Задание 2: градиентный бустинг"
      ],
      "metadata": {
        "id": "-KQ5IdWA5zSO"
      }
    },
    {
      "cell_type": "markdown",
      "source": [
        "Вспомним качество первой логистической регрессии (после корректировки порога вероятности):"
      ],
      "metadata": {
        "id": "KBRgujkH6Ssk"
      }
    },
    {
      "cell_type": "code",
      "source": [
        "from sklearn import metrics\n",
        "\n",
        "print(\"LR quality:\")\n",
        "print(\"precision: \", metrics.precision_score(ytest, classes))\n",
        "print(\"recall: \", metrics.recall_score(ytest, classes))\n",
        "print(\"accuracy: \", metrics.accuracy_score(ytest, classes))\n",
        "print(\"auc-roc: \", metrics.roc_auc_score(ytest, probs[:, 1]))"
      ],
      "metadata": {
        "colab": {
          "base_uri": "https://localhost:8080/"
        },
        "id": "GTIoc8eI55OC",
        "outputId": "63e03ae0-462c-47ce-cf2e-f384a7aa5f91"
      },
      "execution_count": null,
      "outputs": [
        {
          "output_type": "stream",
          "name": "stdout",
          "text": [
            "LR quality:\n",
            "precision:  0.5150684931506849\n",
            "recall:  0.6690391459074733\n",
            "accuracy:  0.7753743760399334\n",
            "auc-roc:  0.8275262653544615\n"
          ]
        }
      ]
    },
    {
      "cell_type": "code",
      "source": [
        "!pip install catboost"
      ],
      "metadata": {
        "colab": {
          "base_uri": "https://localhost:8080/"
        },
        "id": "FlxwzCy07r2A",
        "outputId": "2fd74266-ca67-4d74-940e-52aa94ae1832"
      },
      "execution_count": null,
      "outputs": [
        {
          "output_type": "stream",
          "name": "stdout",
          "text": [
            "Looking in indexes: https://pypi.org/simple, https://us-python.pkg.dev/colab-wheels/public/simple/\n",
            "Requirement already satisfied: catboost in /usr/local/lib/python3.8/dist-packages (1.1.1)\n",
            "Requirement already satisfied: plotly in /usr/local/lib/python3.8/dist-packages (from catboost) (5.5.0)\n",
            "Requirement already satisfied: six in /usr/local/lib/python3.8/dist-packages (from catboost) (1.15.0)\n",
            "Requirement already satisfied: matplotlib in /usr/local/lib/python3.8/dist-packages (from catboost) (3.5.3)\n",
            "Requirement already satisfied: scipy in /usr/local/lib/python3.8/dist-packages (from catboost) (1.7.3)\n",
            "Requirement already satisfied: graphviz in /usr/local/lib/python3.8/dist-packages (from catboost) (0.10.1)\n",
            "Requirement already satisfied: pandas>=0.24.0 in /usr/local/lib/python3.8/dist-packages (from catboost) (1.3.5)\n",
            "Requirement already satisfied: numpy>=1.16.0 in /usr/local/lib/python3.8/dist-packages (from catboost) (1.22.4)\n",
            "Requirement already satisfied: python-dateutil>=2.7.3 in /usr/local/lib/python3.8/dist-packages (from pandas>=0.24.0->catboost) (2.8.2)\n",
            "Requirement already satisfied: pytz>=2017.3 in /usr/local/lib/python3.8/dist-packages (from pandas>=0.24.0->catboost) (2022.7.1)\n",
            "Requirement already satisfied: cycler>=0.10 in /usr/local/lib/python3.8/dist-packages (from matplotlib->catboost) (0.11.0)\n",
            "Requirement already satisfied: pillow>=6.2.0 in /usr/local/lib/python3.8/dist-packages (from matplotlib->catboost) (7.1.2)\n",
            "Requirement already satisfied: kiwisolver>=1.0.1 in /usr/local/lib/python3.8/dist-packages (from matplotlib->catboost) (1.4.4)\n",
            "Requirement already satisfied: fonttools>=4.22.0 in /usr/local/lib/python3.8/dist-packages (from matplotlib->catboost) (4.38.0)\n",
            "Requirement already satisfied: packaging>=20.0 in /usr/local/lib/python3.8/dist-packages (from matplotlib->catboost) (23.0)\n",
            "Requirement already satisfied: pyparsing>=2.2.1 in /usr/local/lib/python3.8/dist-packages (from matplotlib->catboost) (3.0.9)\n",
            "Requirement already satisfied: tenacity>=6.2.0 in /usr/local/lib/python3.8/dist-packages (from plotly->catboost) (8.2.1)\n"
          ]
        }
      ]
    },
    {
      "cell_type": "code",
      "source": [
        "from catboost import CatBoostClassifier, Pool"
      ],
      "metadata": {
        "id": "RgwdLmcQ7zMi"
      },
      "execution_count": null,
      "outputs": []
    },
    {
      "cell_type": "code",
      "source": [
        "train_set = Pool(Xtrain, ytrain)\n",
        "test_set = Pool(Xtest, ytest)"
      ],
      "metadata": {
        "id": "AUq-IPdW79pf"
      },
      "execution_count": null,
      "outputs": []
    },
    {
      "cell_type": "code",
      "source": [
        "gbm = CatBoostClassifier(iterations=220,\n",
        "                          depth=3,\n",
        "                          learning_rate=0.1,\n",
        "                          loss_function='Logloss',\n",
        "                          eval_metric='AUC',\n",
        "                          verbose=False)\n",
        "gbm.fit(train_set, eval_set=test_set)\n",
        "gbm_preds = gbm.predict_proba(Xtest)"
      ],
      "metadata": {
        "id": "3VaUeOxD8B2j"
      },
      "execution_count": null,
      "outputs": []
    },
    {
      "cell_type": "code",
      "source": [
        "eval_metrics = gbm.get_evals_result()\n",
        "plt.plot(eval_metrics['validation']['AUC'])\n",
        "plt.xlabel('n_trees')\n",
        "plt.ylabel('AUC')\n",
        "plt.grid()"
      ],
      "metadata": {
        "colab": {
          "base_uri": "https://localhost:8080/"
        },
        "id": "2RvnoCbk8GIf",
        "outputId": "dd4271cc-4872-4c4b-ebe4-2b7d58b7f60b"
      },
      "execution_count": null,
      "outputs": [
        {
          "output_type": "display_data",
          "data": {
            "text/plain": [
              "<Figure size 432x288 with 1 Axes>"
            ],
            "image/png": "[encoded data removed]"
          },
          "metadata": {
            "needs_background": "light"
          }
        }
      ]
    },
    {
      "cell_type": "code",
      "source": [
        "gbm_classes = (gbm_preds[:, 1] > 0.25)\n",
        "print(\"precision: \", metrics.precision_score(ytest, gbm_classes))\n",
        "print(\"recall: \", metrics.recall_score(ytest, gbm_classes))\n",
        "print(\"accuracy: \", metrics.accuracy_score(ytest, gbm_classes))\n",
        "print(\"auc-roc: \", metrics.roc_auc_score(ytest, gbm_preds[:, 1]))"
      ],
      "metadata": {
        "colab": {
          "base_uri": "https://localhost:8080/"
        },
        "id": "R1wAmUTu8LPS",
        "outputId": "c01e7276-cad9-4cbc-ebb6-0491983e2269"
      },
      "execution_count": null,
      "outputs": [
        {
          "output_type": "stream",
          "name": "stdout",
          "text": [
            "precision:  0.53125\n",
            "recall:  0.7259786476868327\n",
            "accuracy:  0.7861896838602329\n",
            "auc-roc:  0.8654965591323064\n"
          ]
        }
      ]
    },
    {
      "cell_type": "markdown",
      "source": [
        "Градиентный бустинг даёт результат немного лучше, чем логистическая регрессия"
      ],
      "metadata": {
        "id": "DkVTAa2UAc4n"
      }
    },
    {
      "cell_type": "code",
      "source": [
        "coef_table = pd.DataFrame({'features' : list(X.columns), 'importances' : list(gbm.get_feature_importance())})\n",
        "coef_table.sort_values(by='importances')"
      ],
      "metadata": {
        "colab": {
          "base_uri": "https://localhost:8080/"
        },
        "id": "cPlpL2TX8T5g",
        "outputId": "d7f945f3-bcfd-4e06-d449-df17b7c1c8f9"
      },
      "execution_count": null,
      "outputs": [
        {
          "output_type": "execute_result",
          "data": {
            "text/plain": [
              "          features  importances\n",
              "4   hours-per-week    10.540760\n",
              "1  educational-num    12.709748\n",
              "3     capital-loss    13.124520\n",
              "2     capital-gain    28.307374\n",
              "0              age    35.317598"
            ],
            "text/html": [
              "\n",
              "  <div id=\"df-3a4da08d-002c-4fcc-8134-aa32f9d4fe6b\">\n",
              "    <div class=\"colab-df-container\">\n",
              "      <div>\n",
              "<style scoped>\n",
              "    .dataframe tbody tr th:only-of-type {\n",
              "        vertical-align: middle;\n",
              "    }\n",
              "\n",
              "    .dataframe tbody tr th {\n",
              "        vertical-align: top;\n",
              "    }\n",
              "\n",
              "    .dataframe thead th {\n",
              "        text-align: right;\n",
              "    }\n",
              "</style>\n",
              "<table border=\"1\" class=\"dataframe\">\n",
              "  <thead>\n",
              "    <tr style=\"text-align: right;\">\n",
              "      <th></th>\n",
              "      <th>features</th>\n",
              "      <th>importances</th>\n",
              "    </tr>\n",
              "  </thead>\n",
              "  <tbody>\n",
              "    <tr>\n",
              "      <th>4</th>\n",
              "      <td>hours-per-week</td>\n",
              "      <td>10.540760</td>\n",
              "    </tr>\n",
              "    <tr>\n",
              "      <th>1</th>\n",
              "      <td>educational-num</td>\n",
              "      <td>12.709748</td>\n",
              "    </tr>\n",
              "    <tr>\n",
              "      <th>3</th>\n",
              "      <td>capital-loss</td>\n",
              "      <td>13.124520</td>\n",
              "    </tr>\n",
              "    <tr>\n",
              "      <th>2</th>\n",
              "      <td>capital-gain</td>\n",
              "      <td>28.307374</td>\n",
              "    </tr>\n",
              "    <tr>\n",
              "      <th>0</th>\n",
              "      <td>age</td>\n",
              "      <td>35.317598</td>\n",
              "    </tr>\n",
              "  </tbody>\n",
              "</table>\n",
              "</div>\n",
              "      <button class=\"colab-df-convert\" onclick=\"convertToInteractive('df-3a4da08d-002c-4fcc-8134-aa32f9d4fe6b')\"\n",
              "              title=\"Convert this dataframe to an interactive table.\"\n",
              "              style=\"display:none;\">\n",
              "        \n",
              "  <svg xmlns=\"http://www.w3.org/2000/svg\" height=\"24px\"viewBox=\"0 0 24 24\"\n",
              "       width=\"24px\">\n",
              "    <path d=\"M0 0h24v24H0V0z\" fill=\"none\"/>\n",
              "    <path d=\"M18.56 5.44l.94 2.06.94-2.06 2.06-.94-2.06-.94-.94-2.06-.94 2.06-2.06.94zm-11 1L8.5 8.5l.94-2.06 2.06-.94-2.06-.94L8.5 2.5l-.94 2.06-2.06.94zm10 10l.94 2.06.94-2.06 2.06-.94-2.06-.94-.94-2.06-.94 2.06-2.06.94z\"/><path d=\"M17.41 7.96l-1.37-1.37c-.4-.4-.92-.59-1.43-.59-.52 0-1.04.2-1.43.59L10.3 9.45l-7.72 7.72c-.78.78-.78 2.05 0 2.83L4 21.41c.39.39.9.59 1.41.59.51 0 1.02-.2 1.41-.59l7.78-7.78 2.81-2.81c.8-.78.8-2.07 0-2.86zM5.41 20L4 18.59l7.72-7.72 1.47 1.35L5.41 20z\"/>\n",
              "  </svg>\n",
              "      </button>\n",
              "      \n",
              "  <style>\n",
              "    .colab-df-container {\n",
              "      display:flex;\n",
              "      flex-wrap:wrap;\n",
              "      gap: 12px;\n",
              "    }\n",
              "\n",
              "    .colab-df-convert {\n",
              "      background-color: #E8F0FE;\n",
              "      border: none;\n",
              "      border-radius: 50%;\n",
              "      cursor: pointer;\n",
              "      display: none;\n",
              "      fill: #1967D2;\n",
              "      height: 32px;\n",
              "      padding: 0 0 0 0;\n",
              "      width: 32px;\n",
              "    }\n",
              "\n",
              "    .colab-df-convert:hover {\n",
              "      background-color: #E2EBFA;\n",
              "      box-shadow: 0px 1px 2px rgba(60, 64, 67, 0.3), 0px 1px 3px 1px rgba(60, 64, 67, 0.15);\n",
              "      fill: #174EA6;\n",
              "    }\n",
              "\n",
              "    [theme=dark] .colab-df-convert {\n",
              "      background-color: #3B4455;\n",
              "      fill: #D2E3FC;\n",
              "    }\n",
              "\n",
              "    [theme=dark] .colab-df-convert:hover {\n",
              "      background-color: #434B5C;\n",
              "      box-shadow: 0px 1px 3px 1px rgba(0, 0, 0, 0.15);\n",
              "      filter: drop-shadow(0px 1px 2px rgba(0, 0, 0, 0.3));\n",
              "      fill: #FFFFFF;\n",
              "    }\n",
              "  </style>\n",
              "\n",
              "      <script>\n",
              "        const buttonEl =\n",
              "          document.querySelector('#df-3a4da08d-002c-4fcc-8134-aa32f9d4fe6b button.colab-df-convert');\n",
              "        buttonEl.style.display =\n",
              "          google.colab.kernel.accessAllowed ? 'block' : 'none';\n",
              "\n",
              "        async function convertToInteractive(key) {\n",
              "          const element = document.querySelector('#df-3a4da08d-002c-4fcc-8134-aa32f9d4fe6b');\n",
              "          const dataTable =\n",
              "            await google.colab.kernel.invokeFunction('convertToInteractive',\n",
              "                                                     [key], {});\n",
              "          if (!dataTable) return;\n",
              "\n",
              "          const docLinkHtml = 'Like what you see? Visit the ' +\n",
              "            '<a target=\"_blank\" href=https://colab.research.google.com/notebooks/data_table.ipynb>data table notebook</a>'\n",
              "            + ' to learn more about interactive tables.';\n",
              "          element.innerHTML = '';\n",
              "          dataTable['output_type'] = 'display_data';\n",
              "          await google.colab.output.renderOutput(dataTable, element);\n",
              "          const docLink = document.createElement('div');\n",
              "          docLink.innerHTML = docLinkHtml;\n",
              "          element.appendChild(docLink);\n",
              "        }\n",
              "      </script>\n",
              "    </div>\n",
              "  </div>\n",
              "  "
            ]
          },
          "metadata": {},
          "execution_count": 362
        }
      ]
    },
    {
      "cell_type": "markdown",
      "source": [
        "# Задание 2: добавление категориальных признаков в модель"
      ],
      "metadata": {
        "id": "JZZBSNYIrqNc"
      }
    },
    {
      "cell_type": "code",
      "source": [
        "#Let's try to improve our LogisticRegression by adding categorial data\n",
        "\n",
        "full_X = data_f.drop('income', axis = 1, inplace = False)\n",
        "full_y = data_f['income']\n",
        "full_Xtrain, full_Xtest, full_ytrain, full_ytest = train_test_split(full_X, full_y, test_size=0.25, random_state=42)\n"
      ],
      "metadata": {
        "id": "mFbTUm2LI07B"
      },
      "execution_count": null,
      "outputs": []
    },
    {
      "cell_type": "code",
      "source": [
        "from sklearn.preprocessing import OneHotEncoder\n",
        "from sklearn.compose import ColumnTransformer\n",
        "\n",
        "column_transformer = ColumnTransformer([\n",
        "    ('ohe', OneHotEncoder(handle_unknown=\"ignore\"), full_Xtrain.select_dtypes(include=['object']).columns),\n",
        "    ('scaling', StandardScaler(), full_Xtrain.select_dtypes(include=[np.number]).columns)\n",
        "])\n",
        "\n",
        "\n",
        "full_Xtrain_transformed = column_transformer.fit_transform(full_Xtrain)\n",
        "full_Xtest_transformed = column_transformer.transform(full_Xtest)"
      ],
      "metadata": {
        "id": "OQ13_K3jV2GJ"
      },
      "execution_count": null,
      "outputs": []
    },
    {
      "cell_type": "code",
      "source": [
        "full_Xtrain_transformed.shape"
      ],
      "metadata": {
        "id": "kUCGDy90w_ld",
        "outputId": "bd6c1b13-496d-439b-ae77-5864fb002f87",
        "colab": {
          "base_uri": "https://localhost:8080/"
        }
      },
      "execution_count": null,
      "outputs": [
        {
          "output_type": "execute_result",
          "data": {
            "text/plain": [
              "(6657, 101)"
            ]
          },
          "metadata": {},
          "execution_count": 365
        }
      ]
    },
    {
      "cell_type": "code",
      "source": [
        "full_Xtest_transformed.shape"
      ],
      "metadata": {
        "id": "dh2XtyXBzMl8",
        "outputId": "fdf51958-aad6-4a0e-aa22-9568907bec36",
        "colab": {
          "base_uri": "https://localhost:8080/"
        }
      },
      "execution_count": null,
      "outputs": [
        {
          "output_type": "execute_result",
          "data": {
            "text/plain": [
              "(2220, 101)"
            ]
          },
          "metadata": {},
          "execution_count": 366
        }
      ]
    },
    {
      "cell_type": "code",
      "source": [
        "train_set = Pool(full_Xtrain_transformed, full_ytrain)\n",
        "test_set = Pool(full_Xtest_transformed, full_ytest)\n",
        "gbm = CatBoostClassifier(iterations=200,\n",
        "                          depth=2,\n",
        "                          learning_rate=0.1,\n",
        "                          loss_function='Logloss',\n",
        "                          eval_metric='AUC',\n",
        "                          verbose=False)\n",
        "gbm.fit(train_set, eval_set=test_set)\n",
        "gbm_preds = gbm.predict_proba(test_set)\n",
        "gbm_classes = (gbm_preds[:, 1] > 0.3)\n",
        "print(\"precision: \", metrics.precision_score(full_ytest, gbm_classes))\n",
        "print(\"recall: \", metrics.recall_score(full_ytest, gbm_classes))\n",
        "print(\"accuracy: \", metrics.accuracy_score(full_ytest, gbm_classes))\n",
        "print(\"auc-roc: \", metrics.roc_auc_score(full_ytest, gbm_preds[:, 1]))"
      ],
      "metadata": {
        "colab": {
          "base_uri": "https://localhost:8080/"
        },
        "id": "iDK2kMs4FhGu",
        "outputId": "8e4ac0a0-e5d6-4545-e6fc-c8d3bc1c73da"
      },
      "execution_count": null,
      "outputs": [
        {
          "output_type": "stream",
          "name": "stdout",
          "text": [
            "precision:  0.626193724420191\n",
            "recall:  0.796875\n",
            "accuracy:  0.8238738738738739\n",
            "auc-roc:  0.9131817721005677\n"
          ]
        }
      ]
    },
    {
      "cell_type": "code",
      "source": [
        "eval_metrics = gbm.get_evals_result()\n",
        "plt.plot(eval_metrics['validation']['AUC'])\n",
        "plt.xlabel('iterations')\n",
        "plt.ylabel('AUC')\n",
        "plt.grid()"
      ],
      "metadata": {
        "colab": {
          "base_uri": "https://localhost:8080/",
          "height": 279
        },
        "id": "7QA8nxBWHDup",
        "outputId": "ed905454-a485-459e-bc96-aa136156680c"
      },
      "execution_count": null,
      "outputs": [
        {
          "output_type": "display_data",
          "data": {
            "text/plain": [
              "<Figure size 432x288 with 1 Axes>"
            ],
            "image/png": "[encoded data removed]"
          },
          "metadata": {
            "needs_background": "light"
          }
        }
      ]
    },
    {
      "cell_type": "markdown",
      "source": [
        "# Итоги. Результаты трех моделей"
      ],
      "metadata": {
        "id": "f1w6Kf9jKTD_"
      }
    },
    {
      "cell_type": "markdown",
      "source": [
        "Первая логистическая регрессия:\n",
        "* precision:  0.5150684931506849\n",
        "* recall:  0.6690391459074733\n",
        "* accuracy:  0.7753743760399334\n",
        "* auc-roc:  0.8275262653544615\n",
        "\n",
        "Градиентный бустинг:\n",
        "* precision:  0.53125\n",
        "* recall:  0.7259786476868327\n",
        "* accuracy:  0.7861896838602329\n",
        "* auc-roc:  0.8654965591323064\n",
        "\n",
        "С категориальными признаками:\n",
        "* precision:  0.626193724420191\n",
        "* recall:  0.796875\n",
        "* accuracy:  0.8238738738738739\n",
        "* auc-roc:  0.9131817721005677"
      ],
      "metadata": {
        "id": "EgI4LmcTIh-1"
      }
    }
  ],
  "metadata": {
    "kernelspec": {
      "display_name": "Python 3",
      "language": "python",
      "name": "python3"
    },
    "language_info": {
      "codemirror_mode": {
        "name": "ipython",
        "version": 3
      },
      "file_extension": ".py",
      "mimetype": "text/x-python",
      "name": "python",
      "nbconvert_exporter": "python",
      "pygments_lexer": "ipython3",
      "version": "3.7.6"
    },
    "colab": {
      "provenance": [],
      "collapsed_sections": [
        "1Os-p1zQv0ZK",
        "z79gbIw0bWJZ",
        "cgXJLC1Yjpnm",
        "YKqPYfZ3N1Bp",
        "0WKy0qt2QHw-",
        "fTyBVQeusRjk",
        "-KQ5IdWA5zSO"
      ],
      "include_colab_link": true
    }
  },
  "nbformat": 4,
  "nbformat_minor": 0
}